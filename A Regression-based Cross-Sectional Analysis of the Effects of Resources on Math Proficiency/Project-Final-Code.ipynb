{
 "cells": [
  {
   "cell_type": "markdown",
   "metadata": {},
   "source": [
    "### Loading libraries "
   ]
  },
  {
   "cell_type": "code",
   "execution_count": 113,
   "metadata": {},
   "outputs": [],
   "source": [
    "library(\"tidyverse\")\n",
    "library(\"dplyr\")\n",
    "library(\"arm\")\n",
    "library(\"pscl\")\n",
    "library(\"ROCR\")\n",
    "library(\"data.table\")"
   ]
  },
  {
   "cell_type": "markdown",
   "metadata": {},
   "source": [
    "## Loading data"
   ]
  },
  {
   "cell_type": "code",
   "execution_count": 114,
   "metadata": {},
   "outputs": [
    {
     "name": "stderr",
     "output_type": "stream",
     "text": [
      "Parsed with column specification:\n",
      "cols(\n",
      "  .default = col_double(),\n",
      "  RCDTS = col_character(),\n",
      "  Type = col_character(),\n",
      "  School_Name.x = col_character(),\n",
      "  District = col_character(),\n",
      "  City.x = col_character(),\n",
      "  County = col_character(),\n",
      "  District_Type = col_character(),\n",
      "  District_Size = col_character(),\n",
      "  School_Type.x = col_character(),\n",
      "  Grades_Served = col_character(),\n",
      "  Summative_Designation = col_character(),\n",
      "  State_Senate_District = col_integer(),\n",
      "  State_Representative_District = col_integer(),\n",
      "  Student_Enrollment_Total = col_integer(),\n",
      "  Total_Number_of_School_Days = col_integer(),\n",
      "  Avg_Class_Size_High_School = col_integer(),\n",
      "  Avg_Class_Size_All_Grades = col_integer(),\n",
      "  Avg_Number_of_days_of_Physical_Education_Per_Week_Per_Student = col_integer(),\n",
      "  Principal_Turnover_within_6_Years = col_integer(),\n",
      "  School_Name.y = col_character()\n",
      "  # ... with 30 more columns\n",
      ")\n",
      "See spec(...) for full column specifications.\n",
      "Parsed with column specification:\n",
      "cols(\n",
      "  .default = col_integer(),\n",
      "  RCDTS = col_character(),\n",
      "  Type = col_character(),\n",
      "  School_Name.x = col_character(),\n",
      "  District = col_character(),\n",
      "  City.x = col_character(),\n",
      "  County = col_character(),\n",
      "  District_Type = col_character(),\n",
      "  District_Size = col_character(),\n",
      "  School_Type.x = col_character(),\n",
      "  Grades_Served = col_character(),\n",
      "  Summative_Designation = col_character(),\n",
      "  Student_Enrollment_Low_Income_PC = col_double(),\n",
      "  Student_Enrollment_Homeless_PC = col_double(),\n",
      "  Student_Attendance_Rate = col_double(),\n",
      "  Student_Attendance_Rate_Male = col_double(),\n",
      "  Student_Attendance_Rate_Female = col_double(),\n",
      "  Student_Chronic_Truancy_Rate = col_double(),\n",
      "  Teacher_Retention_Rate = col_double(),\n",
      "  PC_8th_Grade_passing_Algebra_1 = col_double(),\n",
      "  Chronic_Absenteeism = col_double()\n",
      "  # ... with 51 more columns\n",
      ")\n",
      "See spec(...) for full column specifications.\n",
      "Parsed with column specification:\n",
      "cols(\n",
      "  .default = col_integer(),\n",
      "  RCDTS = col_character(),\n",
      "  Type = col_character(),\n",
      "  School_Name.x = col_character(),\n",
      "  District = col_character(),\n",
      "  City.x = col_character(),\n",
      "  County = col_character(),\n",
      "  District_Type = col_character(),\n",
      "  District_Size = col_character(),\n",
      "  School_Type.x = col_character(),\n",
      "  Grades_Served = col_character(),\n",
      "  Summative_Designation = col_character(),\n",
      "  Student_Enrollment_Low_Income_PC = col_double(),\n",
      "  Student_Enrollment_Homeless_PC = col_double(),\n",
      "  Student_Attendance_Rate = col_double(),\n",
      "  Student_Attendance_Rate_Male = col_double(),\n",
      "  Student_Attendance_Rate_Female = col_double(),\n",
      "  Student_Chronic_Truancy_Rate = col_double(),\n",
      "  Teacher_Retention_Rate = col_double(),\n",
      "  PC_8th_Grade_passing_Algebra_1 = col_double(),\n",
      "  Chronic_Absenteeism = col_double()\n",
      "  # ... with 60 more columns\n",
      ")\n",
      "See spec(...) for full column specifications.\n",
      "Parsed with column specification:\n",
      "cols(\n",
      "  .default = col_integer(),\n",
      "  RCDTS = col_character(),\n",
      "  Type = col_character(),\n",
      "  School_Name.x = col_character(),\n",
      "  District = col_character(),\n",
      "  City.x = col_character(),\n",
      "  County = col_character(),\n",
      "  District_Type = col_character(),\n",
      "  District_Size = col_character(),\n",
      "  School_Type.x = col_character(),\n",
      "  Grades_Served = col_character(),\n",
      "  Summative_Designation = col_character(),\n",
      "  Student_Enrollment_Low_Income_PC = col_double(),\n",
      "  Student_Enrollment_Homeless_PC = col_double(),\n",
      "  Student_Attendance_Rate = col_double(),\n",
      "  Student_Attendance_Rate_Male = col_double(),\n",
      "  Student_Attendance_Rate_Female = col_double(),\n",
      "  Student_Chronic_Truancy_Rate = col_double(),\n",
      "  Teacher_Retention_Rate = col_double(),\n",
      "  PC_8th_Grade_passing_Algebra_1 = col_double(),\n",
      "  Chronic_Absenteeism = col_double()\n",
      "  # ... with 60 more columns\n",
      ")\n",
      "See spec(...) for full column specifications.\n",
      "Parsed with column specification:\n",
      "cols(\n",
      "  .default = col_integer(),\n",
      "  RCDTS = col_character(),\n",
      "  Type = col_character(),\n",
      "  School_Name.x = col_character(),\n",
      "  District = col_character(),\n",
      "  City.x = col_character(),\n",
      "  County = col_character(),\n",
      "  District_Type = col_character(),\n",
      "  District_Size = col_character(),\n",
      "  School_Type.x = col_character(),\n",
      "  Grades_Served = col_character(),\n",
      "  Summative_Designation = col_character(),\n",
      "  Student_Enrollment_Low_Income_PC = col_double(),\n",
      "  Student_Enrollment_Homeless_PC = col_double(),\n",
      "  Student_Attendance_Rate = col_double(),\n",
      "  Student_Attendance_Rate_Male = col_double(),\n",
      "  Student_Attendance_Rate_Female = col_double(),\n",
      "  Student_Chronic_Truancy_Rate = col_double(),\n",
      "  Teacher_Retention_Rate = col_double(),\n",
      "  PC_8th_Grade_passing_Algebra_1 = col_double(),\n",
      "  Chronic_Absenteeism = col_double()\n",
      "  # ... with 60 more columns\n",
      ")\n",
      "See spec(...) for full column specifications.\n",
      "Parsed with column specification:\n",
      "cols(\n",
      "  .default = col_double(),\n",
      "  RCDTS = col_character(),\n",
      "  Type = col_character(),\n",
      "  School_Name.x = col_character(),\n",
      "  District = col_character(),\n",
      "  City.x = col_character(),\n",
      "  County = col_character(),\n",
      "  District_Type = col_character(),\n",
      "  District_Size = col_character(),\n",
      "  School_Type.x = col_character(),\n",
      "  Grades_Served = col_character(),\n",
      "  Summative_Designation = col_character(),\n",
      "  State_Senate_District = col_integer(),\n",
      "  State_Representative_District = col_integer(),\n",
      "  Student_Enrollment_Total = col_integer(),\n",
      "  Total_Number_of_School_Days = col_integer(),\n",
      "  Avg_Class_Size_High_School = col_integer(),\n",
      "  Avg_Class_Size_All_Grades = col_integer(),\n",
      "  Avg_Number_of_days_of_Physical_Education_Per_Week_Per_Student = col_integer(),\n",
      "  Principal_Turnover_within_6_Years = col_integer(),\n",
      "  School_Name.y = col_character()\n",
      "  # ... with 43 more columns\n",
      ")\n",
      "See spec(...) for full column specifications.\n"
     ]
    }
   ],
   "source": [
    "df.chi.more.hs <- read_csv(\"./data/df.chi.more.hs.csv\")\n",
    "df.chi.more.es <- read_csv(\"./data/df.chi.more.es.csv\")\n",
    "df.chi.more.ms <- read_csv(\"./data/df.chi.more.ms.csv\")\n",
    "df.chi.full.ms <- read_csv(\"./data/df.chi.full.ms.csv\")\n",
    "df.chi.full.es <- read_csv(\"./data/df.chi.full.es.csv\")\n",
    "df.chi.full.hs <- read_csv(\"./data/df.chi.full.hs.csv\")"
   ]
  },
  {
   "cell_type": "markdown",
   "metadata": {},
   "source": [
    "## prepliminary analysis"
   ]
  },
  {
   "cell_type": "code",
   "execution_count": 115,
   "metadata": {},
   "outputs": [
    {
     "name": "stdout",
     "output_type": "stream",
     "text": [
      "Observations: 455\n",
      "Variables: 132\n",
      "$ RCDTS                                                         <chr> \"1501...\n",
      "$ Type                                                          <chr> \"Scho...\n",
      "$ School_Name.x                                                 <chr> \"Jack...\n",
      "$ District                                                      <chr> \"City...\n",
      "$ City.x                                                        <chr> \"Chic...\n",
      "$ County                                                        <chr> \"Cook...\n",
      "$ District_Type                                                 <chr> \"UNIT...\n",
      "$ District_Size                                                 <chr> \"LARG...\n",
      "$ School_Type.x                                                 <chr> \"ELEM...\n",
      "$ Grades_Served                                                 <chr> \"PK K...\n",
      "$ Summative_Designation                                         <chr> \"Comm...\n",
      "$ State_Senate_District                                         <int> 14, 1...\n",
      "$ State_Representative_District                                 <int> 27, 2...\n",
      "$ Student_Enrollment_Total                                      <int> 346, ...\n",
      "$ Student_Enrollment_Low_Income_PC                              <dbl> 98.3,...\n",
      "$ Student_Enrollment_Homeless_PC                                <dbl> 13.3,...\n",
      "$ Total_Number_of_School_Days                                   <int> 178, ...\n",
      "$ Student_Attendance_Rate                                       <dbl> 94.4,...\n",
      "$ Student_Attendance_Rate_Male                                  <dbl> 94.4,...\n",
      "$ Student_Attendance_Rate_Female                                <dbl> 94.5,...\n",
      "$ Student_Chronic_Truancy_Rate                                  <dbl> 45.6,...\n",
      "$ Avg_Class_Size_All_Grades                                     <int> 23, 2...\n",
      "$ Min_per_Day_Math_Grade_3                                      <int> 90, 9...\n",
      "$ Min_per_Day_Math_Grade_6                                      <int> 60, 6...\n",
      "$ Min_per_Day_Math_Grade_8                                      <int> 60, 6...\n",
      "$ Min_per_Day_Science_Grade_3                                   <int> 50, 5...\n",
      "$ Min_per_Day_Science_Grade_6                                   <int> 60, 6...\n",
      "$ Min_per_Day_Science_Grade_8                                   <int> 60, 6...\n",
      "$ Min_per_Day_English_Grade_3                                   <int> 120, ...\n",
      "$ Min_per_Day_English_Grade_6                                   <int> 60, 6...\n",
      "$ Min_per_Day_English_Grade_8                                   <int> 60, 6...\n",
      "$ Min_per_Day_Social_Sciences_Grade_3                           <int> 30, 3...\n",
      "$ Min_per_Day_Social_Sciences_Grade_6                           <int> 60, 6...\n",
      "$ Min_per_Day_Social_Sciences_Grade_8                           <int> 60, 6...\n",
      "$ Avg_Number_of_days_of_Physical_Education_Per_Week_Per_Student <int> 2, 5,...\n",
      "$ Teacher_Retention_Rate                                        <dbl> 80.9,...\n",
      "$ Principal_Turnover_within_6_Years                             <int> 3, 1,...\n",
      "$ PC_8th_Grade_passing_Algebra_1                                <dbl> NA, N...\n",
      "$ Chronic_Absenteeism                                           <dbl> 20.6,...\n",
      "$ Chronic_Absenteeism_Low_Income                                <dbl> 20.6,...\n",
      "$ School_Name.y                                                 <chr> \"Jack...\n",
      "$ City.y                                                        <chr> \"Chic...\n",
      "$ ELA_Proficiency_Total_PC                                      <dbl> 8.9, ...\n",
      "$ ELA_Proficiency_Low_Income_PC                                 <dbl> 8.5, ...\n",
      "$ Math_Proficiency_Total_PC                                     <dbl> 5.4, ...\n",
      "$ Math_Proficiency_Low_Income_PC                                <dbl> 5.5, ...\n",
      "$ ELA_Growth_All_PC                                             <dbl> 41.9,...\n",
      "$ ELA_Growth_Low_Income_PC                                      <dbl> 41.8,...\n",
      "$ Math_Growth_Low_Income_PC                                     <dbl> 38.3,...\n",
      "$ ELA_Participation_Total_Student_PC                            <dbl> 97.6,...\n",
      "$ ELA_Participation_Total_Low_Income_PC                         <dbl> 97.6,...\n",
      "$ ELA_Proficiency_Male_PC                                       <dbl> 6.2, ...\n",
      "$ ELA_Proficiency_Female_PC                                     <dbl> 11.3,...\n",
      "$ Math_Proficiency_Male_PC                                      <dbl> 5.2, ...\n",
      "$ Math_Proficiency_Female_PC                                    <dbl> 5.7, ...\n",
      "$ Math_Participation_Total_Student_PC                           <dbl> 97.6,...\n",
      "$ Math_Participation_Low_Income_PC                              <dbl> 97.6,...\n",
      "$ School_ID                                                     <int> 61036...\n",
      "$ Short_Name                                                    <chr> \"JACK...\n",
      "$ Long_Name                                                     <chr> \"Maha...\n",
      "$ School_Type.y                                                 <chr> \"Neig...\n",
      "$ Primary_Category                                              <chr> \"ES\",...\n",
      "$ Student_Growth_Rating                                         <int> 5, 3,...\n",
      "$ Growth_Reading_Grades_Tested_Pct_ES                           <int> 76, 5...\n",
      "$ Growth_Math_Grades_Tested_Pct_ES                              <int> 96, 4...\n",
      "$ Student_Attainment_Rating                                     <int> 2, 3,...\n",
      "$ Attainment_Reading_Pct_ES                                     <int> 8, 65...\n",
      "$ Attainment_Math_Pct_ES                                        <int> 11, 4...\n",
      "$ Culture_Climate_Rating                                        <int> 5, 5,...\n",
      "$ School_Survey_Student_Response_Rate_Pct                       <dbl> 91.0,...\n",
      "$ School_Survey_Student_Response_Rate_Avg_Pct                   <dbl> 82.2,...\n",
      "$ School_Survey_Teacher_Response_Rate_Pct                       <dbl> 87.9,...\n",
      "$ School_Survey_Teacher_Response_Rate_Avg_Pct                   <dbl> 80.9,...\n",
      "$ School_Survey_Parent_Response_Rate_Pct                        <chr> \"38\",...\n",
      "$ NWEA_Reading_Growth_Grade_3_Pct                               <int> 34, 4...\n",
      "$ NWEA_Reading_Growth_Grade_4_Pct                               <int> 20, 5...\n",
      "$ NWEA_Reading_Growth_Grade_5_Pct                               <int> 99, 8...\n",
      "$ NWEA_Reading_Growth_Grade_6_Pct                               <int> 99, 9...\n",
      "$ NWEA_Reading_Growth_Grade_7_Pct                               <int> 56, 1...\n",
      "$ NWEA_Reading_Growth_Grade_8_Pct                               <int> 96, 5...\n",
      "$ NWEA_Math_Growth_Grade_3_Pct                                  <int> 94, 9...\n",
      "$ NWEA_Math_Growth_Grade_4_Pct                                  <int> 86, 1...\n",
      "$ NWEA_Math_Growth_Grade_5_Pct                                  <int> 56, 1...\n",
      "$ NWEA_Math_Growth_Grade_6_Pct                                  <int> 20, 9...\n",
      "$ NWEA_Math_Growth_Grade_7_Pct                                  <int> 99, 1...\n",
      "$ NWEA_Math_Growth_Grade_8_Pct                                  <int> 99, 7...\n",
      "$ NWEA_Reading_Attainment_Grade_2_Pct                           <int> 3, 37...\n",
      "$ NWEA_Reading_Attainment_Grade_3_Pct                           <int> 2, 34...\n",
      "$ NWEA_Reading_Attainment_Grade_4_Pct                           <int> 7, 49...\n",
      "$ NWEA_Reading_Attainment_Grade_5_Pct                           <int> 11, 6...\n",
      "$ NWEA_Reading_Attainment_Grade_6_Pct                           <int> 6, 98...\n",
      "$ NWEA_Reading_Attainment_Grade_7_Pct                           <int> 6, 73...\n",
      "$ NWEA_Reading_Attainment_Grade_8_Pct                           <int> 45, 6...\n",
      "$ NWEA_Math_Attainment_Grade_2_Pct                              <int> 4, 16...\n",
      "$ NWEA_Math_Attainment_Grade_3_Pct                              <int> 10, 6...\n",
      "$ NWEA_Math_Attainment_Grade_4_Pct                              <int> 7, 19...\n",
      "$ NWEA_Math_Attainment_Grade_5_Pct                              <int> 5, 21...\n",
      "$ NWEA_Math_Attainment_Grade_6_Pct                              <int> 4, 77...\n",
      "$ NWEA_Math_Attainment_Grade_7_Pct                              <int> 20, 4...\n",
      "$ NWEA_Math_Attainment_Grade_8_Pct                              <int> 33, 5...\n",
      "$ School_Survey_Involved_Families                               <int> 4, 4,...\n",
      "$ School_Survey_Supportive_Environment                          <int> 4, 3,...\n",
      "$ School_Survey_Ambitious_Instruction                           <int> 5, 5,...\n",
      "$ School_Survey_Effective_Leaders                               <int> 4, 4,...\n",
      "$ School_Survey_Collaborative_Teachers                          <int> 4, 4,...\n",
      "$ School_Survey_Safety                                          <int> 4, 3,...\n",
      "$ Suspensions_Per_100_Students_Year_1_Pct                       <dbl> 17.9,...\n",
      "$ Suspensions_Per_100_Students_Year_2_Pct                       <dbl> 5.7, ...\n",
      "$ Suspensions_Per_100_Students_Avg_Pct                          <dbl> 5.8, ...\n",
      "$ Misconducts_To_Suspensions_Year_1_Pct                         <dbl> 27.2,...\n",
      "$ Misconducts_To_Suspensions_Year_2_Pct                         <dbl> 18.4,...\n",
      "$ Misconducts_To_Suspensions_Avg_Pct                            <dbl> 16.3,...\n",
      "$ Average_Length_Suspension_Year_1_Pct                          <chr> \"1.9 ...\n",
      "$ Average_Length_Suspension_Year_2_Pct                          <chr> \"2.1 ...\n",
      "$ Average_Length_Suspension_Avg_Pct                             <chr> \"2.0 ...\n",
      "$ Student_Attendance_Year_1_Pct                                 <dbl> 91.4,...\n",
      "$ Student_Attendance_Year_2_Pct                                 <dbl> 93.3,...\n",
      "$ Student_Attendance_Avg_Pct                                    <dbl> 92.8,...\n",
      "$ Teacher_Attendance_Year_1_Pct                                 <dbl> 90.3,...\n",
      "$ Teacher_Attendance_Year_2_Pct                                 <dbl> 90.4,...\n",
      "$ Teacher_Attendance_Avg_Pct                                    <dbl> 90.1,...\n",
      "$ Graduation_4_Year_CPS_Pct_Year_1                              <dbl> 73.5,...\n",
      "$ Graduation_5_Year_CPS_Pct_Year_1                              <dbl> 73.5,...\n",
      "$ SAT_District_Average                                          <int> 968, ...\n",
      "$ Mobility_Rate_Pct                                             <dbl> 31.7,...\n",
      "$ Chronic_Truancy_Pct                                           <dbl> 48.4,...\n",
      "$ SCHOOL                                                        <chr> \"JACK...\n",
      "$ BUDGET_1819                                                   <chr> \"$3,0...\n",
      "$ INCREASE                                                      <dbl> 3.39,...\n",
      "$ BUDGET_1718                                                   <chr> \"$2,9...\n",
      "$ IS_CHARTER                                                    <int> 0, 0,...\n",
      "$ Expenditure_Per_Pupil_1718                                    <dbl> 8581....\n"
     ]
    },
    {
     "data": {
      "text/html": [
       "<ol class=list-inline>\n",
       "\t<li>455</li>\n",
       "\t<li>132</li>\n",
       "</ol>\n"
      ],
      "text/latex": [
       "\\begin{enumerate*}\n",
       "\\item 455\n",
       "\\item 132\n",
       "\\end{enumerate*}\n"
      ],
      "text/markdown": [
       "1. 455\n",
       "2. 132\n",
       "\n",
       "\n"
      ],
      "text/plain": [
       "[1] 455 132"
      ]
     },
     "metadata": {},
     "output_type": "display_data"
    }
   ],
   "source": [
    "dim(glimpse(df.chi.more.es))"
   ]
  },
  {
   "cell_type": "markdown",
   "metadata": {},
   "source": [
    "### Elementary school "
   ]
  },
  {
   "cell_type": "code",
   "execution_count": 116,
   "metadata": {},
   "outputs": [
    {
     "name": "stdout",
     "output_type": "stream",
     "text": [
      "Observations: 455\n",
      "Variables: 132\n",
      "$ RCDTS                                                         <chr> \"1501...\n",
      "$ Type                                                          <chr> \"Scho...\n",
      "$ School_Name.x                                                 <chr> \"Jack...\n",
      "$ District                                                      <chr> \"City...\n",
      "$ City.x                                                        <chr> \"Chic...\n",
      "$ County                                                        <chr> \"Cook...\n",
      "$ District_Type                                                 <chr> \"UNIT...\n",
      "$ District_Size                                                 <chr> \"LARG...\n",
      "$ School_Type.x                                                 <chr> \"ELEM...\n",
      "$ Grades_Served                                                 <chr> \"PK K...\n",
      "$ Summative_Designation                                         <chr> \"Comm...\n",
      "$ State_Senate_District                                         <int> 14, 1...\n",
      "$ State_Representative_District                                 <int> 27, 2...\n",
      "$ Student_Enrollment_Total                                      <int> 346, ...\n",
      "$ Student_Enrollment_Low_Income_PC                              <dbl> 98.3,...\n",
      "$ Student_Enrollment_Homeless_PC                                <dbl> 13.3,...\n",
      "$ Total_Number_of_School_Days                                   <int> 178, ...\n",
      "$ Student_Attendance_Rate                                       <dbl> 94.4,...\n",
      "$ Student_Attendance_Rate_Male                                  <dbl> 94.4,...\n",
      "$ Student_Attendance_Rate_Female                                <dbl> 94.5,...\n",
      "$ Student_Chronic_Truancy_Rate                                  <dbl> 45.6,...\n",
      "$ Avg_Class_Size_All_Grades                                     <int> 23, 2...\n",
      "$ Min_per_Day_Math_Grade_3                                      <int> 90, 9...\n",
      "$ Min_per_Day_Math_Grade_6                                      <int> 60, 6...\n",
      "$ Min_per_Day_Math_Grade_8                                      <int> 60, 6...\n",
      "$ Min_per_Day_Science_Grade_3                                   <int> 50, 5...\n",
      "$ Min_per_Day_Science_Grade_6                                   <int> 60, 6...\n",
      "$ Min_per_Day_Science_Grade_8                                   <int> 60, 6...\n",
      "$ Min_per_Day_English_Grade_3                                   <int> 120, ...\n",
      "$ Min_per_Day_English_Grade_6                                   <int> 60, 6...\n",
      "$ Min_per_Day_English_Grade_8                                   <int> 60, 6...\n",
      "$ Min_per_Day_Social_Sciences_Grade_3                           <int> 30, 3...\n",
      "$ Min_per_Day_Social_Sciences_Grade_6                           <int> 60, 6...\n",
      "$ Min_per_Day_Social_Sciences_Grade_8                           <int> 60, 6...\n",
      "$ Avg_Number_of_days_of_Physical_Education_Per_Week_Per_Student <int> 2, 5,...\n",
      "$ Teacher_Retention_Rate                                        <dbl> 80.9,...\n",
      "$ Principal_Turnover_within_6_Years                             <int> 3, 1,...\n",
      "$ PC_8th_Grade_passing_Algebra_1                                <dbl> NA, N...\n",
      "$ Chronic_Absenteeism                                           <dbl> 20.6,...\n",
      "$ Chronic_Absenteeism_Low_Income                                <dbl> 20.6,...\n",
      "$ School_Name.y                                                 <chr> \"Jack...\n",
      "$ City.y                                                        <chr> \"Chic...\n",
      "$ ELA_Proficiency_Total_PC                                      <dbl> 8.9, ...\n",
      "$ ELA_Proficiency_Low_Income_PC                                 <dbl> 8.5, ...\n",
      "$ Math_Proficiency_Total_PC                                     <dbl> 5.4, ...\n",
      "$ Math_Proficiency_Low_Income_PC                                <dbl> 5.5, ...\n",
      "$ ELA_Growth_All_PC                                             <dbl> 41.9,...\n",
      "$ ELA_Growth_Low_Income_PC                                      <dbl> 41.8,...\n",
      "$ Math_Growth_Low_Income_PC                                     <dbl> 38.3,...\n",
      "$ ELA_Participation_Total_Student_PC                            <dbl> 97.6,...\n",
      "$ ELA_Participation_Total_Low_Income_PC                         <dbl> 97.6,...\n",
      "$ ELA_Proficiency_Male_PC                                       <dbl> 6.2, ...\n",
      "$ ELA_Proficiency_Female_PC                                     <dbl> 11.3,...\n",
      "$ Math_Proficiency_Male_PC                                      <dbl> 5.2, ...\n",
      "$ Math_Proficiency_Female_PC                                    <dbl> 5.7, ...\n",
      "$ Math_Participation_Total_Student_PC                           <dbl> 97.6,...\n",
      "$ Math_Participation_Low_Income_PC                              <dbl> 97.6,...\n",
      "$ School_ID                                                     <int> 61036...\n",
      "$ Short_Name                                                    <chr> \"JACK...\n",
      "$ Long_Name                                                     <chr> \"Maha...\n",
      "$ School_Type.y                                                 <chr> \"Neig...\n",
      "$ Primary_Category                                              <chr> \"ES\",...\n",
      "$ Student_Growth_Rating                                         <int> 5, 3,...\n",
      "$ Growth_Reading_Grades_Tested_Pct_ES                           <int> 76, 5...\n",
      "$ Growth_Math_Grades_Tested_Pct_ES                              <int> 96, 4...\n",
      "$ Student_Attainment_Rating                                     <int> 2, 3,...\n",
      "$ Attainment_Reading_Pct_ES                                     <int> 8, 65...\n",
      "$ Attainment_Math_Pct_ES                                        <int> 11, 4...\n",
      "$ Culture_Climate_Rating                                        <int> 5, 5,...\n",
      "$ School_Survey_Student_Response_Rate_Pct                       <dbl> 91.0,...\n",
      "$ School_Survey_Student_Response_Rate_Avg_Pct                   <dbl> 82.2,...\n",
      "$ School_Survey_Teacher_Response_Rate_Pct                       <dbl> 87.9,...\n",
      "$ School_Survey_Teacher_Response_Rate_Avg_Pct                   <dbl> 80.9,...\n",
      "$ School_Survey_Parent_Response_Rate_Pct                        <chr> \"38\",...\n",
      "$ NWEA_Reading_Growth_Grade_3_Pct                               <int> 34, 4...\n",
      "$ NWEA_Reading_Growth_Grade_4_Pct                               <int> 20, 5...\n",
      "$ NWEA_Reading_Growth_Grade_5_Pct                               <int> 99, 8...\n",
      "$ NWEA_Reading_Growth_Grade_6_Pct                               <int> 99, 9...\n",
      "$ NWEA_Reading_Growth_Grade_7_Pct                               <int> 56, 1...\n",
      "$ NWEA_Reading_Growth_Grade_8_Pct                               <int> 96, 5...\n",
      "$ NWEA_Math_Growth_Grade_3_Pct                                  <int> 94, 9...\n",
      "$ NWEA_Math_Growth_Grade_4_Pct                                  <int> 86, 1...\n",
      "$ NWEA_Math_Growth_Grade_5_Pct                                  <int> 56, 1...\n",
      "$ NWEA_Math_Growth_Grade_6_Pct                                  <int> 20, 9...\n",
      "$ NWEA_Math_Growth_Grade_7_Pct                                  <int> 99, 1...\n",
      "$ NWEA_Math_Growth_Grade_8_Pct                                  <int> 99, 7...\n",
      "$ NWEA_Reading_Attainment_Grade_2_Pct                           <int> 3, 37...\n",
      "$ NWEA_Reading_Attainment_Grade_3_Pct                           <int> 2, 34...\n",
      "$ NWEA_Reading_Attainment_Grade_4_Pct                           <int> 7, 49...\n",
      "$ NWEA_Reading_Attainment_Grade_5_Pct                           <int> 11, 6...\n",
      "$ NWEA_Reading_Attainment_Grade_6_Pct                           <int> 6, 98...\n",
      "$ NWEA_Reading_Attainment_Grade_7_Pct                           <int> 6, 73...\n",
      "$ NWEA_Reading_Attainment_Grade_8_Pct                           <int> 45, 6...\n",
      "$ NWEA_Math_Attainment_Grade_2_Pct                              <int> 4, 16...\n",
      "$ NWEA_Math_Attainment_Grade_3_Pct                              <int> 10, 6...\n",
      "$ NWEA_Math_Attainment_Grade_4_Pct                              <int> 7, 19...\n",
      "$ NWEA_Math_Attainment_Grade_5_Pct                              <int> 5, 21...\n",
      "$ NWEA_Math_Attainment_Grade_6_Pct                              <int> 4, 77...\n",
      "$ NWEA_Math_Attainment_Grade_7_Pct                              <int> 20, 4...\n",
      "$ NWEA_Math_Attainment_Grade_8_Pct                              <int> 33, 5...\n",
      "$ School_Survey_Involved_Families                               <int> 4, 4,...\n",
      "$ School_Survey_Supportive_Environment                          <int> 4, 3,...\n",
      "$ School_Survey_Ambitious_Instruction                           <int> 5, 5,...\n",
      "$ School_Survey_Effective_Leaders                               <int> 4, 4,...\n",
      "$ School_Survey_Collaborative_Teachers                          <int> 4, 4,...\n",
      "$ School_Survey_Safety                                          <int> 4, 3,...\n",
      "$ Suspensions_Per_100_Students_Year_1_Pct                       <dbl> 17.9,...\n",
      "$ Suspensions_Per_100_Students_Year_2_Pct                       <dbl> 5.7, ...\n",
      "$ Suspensions_Per_100_Students_Avg_Pct                          <dbl> 5.8, ...\n",
      "$ Misconducts_To_Suspensions_Year_1_Pct                         <dbl> 27.2,...\n",
      "$ Misconducts_To_Suspensions_Year_2_Pct                         <dbl> 18.4,...\n",
      "$ Misconducts_To_Suspensions_Avg_Pct                            <dbl> 16.3,...\n",
      "$ Average_Length_Suspension_Year_1_Pct                          <chr> \"1.9 ...\n",
      "$ Average_Length_Suspension_Year_2_Pct                          <chr> \"2.1 ...\n",
      "$ Average_Length_Suspension_Avg_Pct                             <chr> \"2.0 ...\n",
      "$ Student_Attendance_Year_1_Pct                                 <dbl> 91.4,...\n",
      "$ Student_Attendance_Year_2_Pct                                 <dbl> 93.3,...\n",
      "$ Student_Attendance_Avg_Pct                                    <dbl> 92.8,...\n",
      "$ Teacher_Attendance_Year_1_Pct                                 <dbl> 90.3,...\n",
      "$ Teacher_Attendance_Year_2_Pct                                 <dbl> 90.4,...\n",
      "$ Teacher_Attendance_Avg_Pct                                    <dbl> 90.1,...\n",
      "$ Graduation_4_Year_CPS_Pct_Year_1                              <dbl> 73.5,...\n",
      "$ Graduation_5_Year_CPS_Pct_Year_1                              <dbl> 73.5,...\n",
      "$ SAT_District_Average                                          <int> 968, ...\n",
      "$ Mobility_Rate_Pct                                             <dbl> 31.7,...\n",
      "$ Chronic_Truancy_Pct                                           <dbl> 48.4,...\n",
      "$ SCHOOL                                                        <chr> \"JACK...\n",
      "$ BUDGET_1819                                                   <chr> \"$3,0...\n",
      "$ INCREASE                                                      <dbl> 3.39,...\n",
      "$ BUDGET_1718                                                   <chr> \"$2,9...\n",
      "$ IS_CHARTER                                                    <int> 0, 0,...\n",
      "$ Expenditure_Per_Pupil_1718                                    <dbl> 8581....\n"
     ]
    },
    {
     "data": {
      "text/html": [
       "<ol class=list-inline>\n",
       "\t<li>455</li>\n",
       "\t<li>132</li>\n",
       "</ol>\n"
      ],
      "text/latex": [
       "\\begin{enumerate*}\n",
       "\\item 455\n",
       "\\item 132\n",
       "\\end{enumerate*}\n"
      ],
      "text/markdown": [
       "1. 455\n",
       "2. 132\n",
       "\n",
       "\n"
      ],
      "text/plain": [
       "[1] 455 132"
      ]
     },
     "metadata": {},
     "output_type": "display_data"
    }
   ],
   "source": [
    "dim(glimpse(df.chi.more.es))"
   ]
  },
  {
   "cell_type": "code",
   "execution_count": 117,
   "metadata": {},
   "outputs": [],
   "source": [
    "df.es.temp <- df.chi.more.es[,c(14,15,16,17,18,21,22,23,35,36,39,40,45,46,69,70,72,81,95,101,102,103,104,105,106,116,121,125,126,131,132)]"
   ]
  },
  {
   "cell_type": "code",
   "execution_count": 118,
   "metadata": {},
   "outputs": [],
   "source": [
    "df.es.chart <- subset(df.es.temp, IS_CHARTER == 1)"
   ]
  },
  {
   "cell_type": "code",
   "execution_count": 119,
   "metadata": {},
   "outputs": [
    {
     "name": "stdout",
     "output_type": "stream",
     "text": [
      "Observations: 51\n",
      "Variables: 31\n",
      "$ Student_Enrollment_Total                                      <int> 908, ...\n",
      "$ Student_Enrollment_Low_Income_PC                              <dbl> 96.0,...\n",
      "$ Student_Enrollment_Homeless_PC                                <dbl> NA, N...\n",
      "$ Total_Number_of_School_Days                                   <int> 178, ...\n",
      "$ Student_Attendance_Rate                                       <dbl> 95.6,...\n",
      "$ Student_Chronic_Truancy_Rate                                  <dbl> 18.4,...\n",
      "$ Avg_Class_Size_All_Grades                                     <int> 26, 2...\n",
      "$ Min_per_Day_Math_Grade_3                                      <int> 90, 1...\n",
      "$ Avg_Number_of_days_of_Physical_Education_Per_Week_Per_Student <int> 3, 0,...\n",
      "$ Teacher_Retention_Rate                                        <dbl> 89.0,...\n",
      "$ Chronic_Absenteeism                                           <dbl> 11.5,...\n",
      "$ Chronic_Absenteeism_Low_Income                                <dbl> 11.5,...\n",
      "$ Math_Proficiency_Total_PC                                     <dbl> 19.0,...\n",
      "$ Math_Proficiency_Low_Income_PC                                <dbl> 18.6,...\n",
      "$ Culture_Climate_Rating                                        <int> 5, 1,...\n",
      "$ School_Survey_Student_Response_Rate_Pct                       <dbl> 99.9,...\n",
      "$ School_Survey_Teacher_Response_Rate_Pct                       <dbl> 88.0,...\n",
      "$ NWEA_Math_Growth_Grade_3_Pct                                  <int> 95, 9...\n",
      "$ NWEA_Math_Attainment_Grade_3_Pct                              <int> 57, 4...\n",
      "$ School_Survey_Involved_Families                               <int> 4, 2,...\n",
      "$ School_Survey_Supportive_Environment                          <int> 4, 2,...\n",
      "$ School_Survey_Ambitious_Instruction                           <int> 5, 3,...\n",
      "$ School_Survey_Effective_Leaders                               <int> 3, 2,...\n",
      "$ School_Survey_Collaborative_Teachers                          <int> 3, 2,...\n",
      "$ School_Survey_Safety                                          <int> 3, 2,...\n",
      "$ Student_Attendance_Year_1_Pct                                 <dbl> 95.7,...\n",
      "$ Teacher_Attendance_Avg_Pct                                    <dbl> 90.1,...\n",
      "$ Mobility_Rate_Pct                                             <dbl> 10.3,...\n",
      "$ Chronic_Truancy_Pct                                           <dbl> 19.5,...\n",
      "$ IS_CHARTER                                                    <int> 1, 1,...\n",
      "$ Expenditure_Per_Pupil_1718                                    <dbl> 6953....\n"
     ]
    }
   ],
   "source": [
    "glimpse(df.es.chart)"
   ]
  },
  {
   "cell_type": "markdown",
   "metadata": {},
   "source": [
    "### Selecting subsets for elementary school (Considering numerics only)\n"
   ]
  },
  {
   "cell_type": "code",
   "execution_count": 120,
   "metadata": {},
   "outputs": [],
   "source": [
    "library(leaps)\n",
    "#reg_fit <- regsubsets(Math_Proficiency_Total_PC~., data = df.es.temp)\n",
    "#summary(reg_fit)"
   ]
  },
  {
   "cell_type": "markdown",
   "metadata": {},
   "source": [
    "### Fitting a model"
   ]
  },
  {
   "cell_type": "code",
   "execution_count": 121,
   "metadata": {},
   "outputs": [
    {
     "data": {
      "text/plain": [
       "\n",
       "Call:\n",
       "lm(formula = Math_Proficiency_Total_PC ~ IS_CHARTER + PC_of_Free_Eligibility + \n",
       "    School_Survey_Involved_Families + Teacher_Retention_Rate + \n",
       "    Avg_Class_Size_All_Grades + Chronic_Absenteeism, data = df.chi.more.ms)\n",
       "\n",
       "Residuals:\n",
       "    Min      1Q  Median      3Q     Max \n",
       "-40.885  -5.518  -1.123   4.541  44.509 \n",
       "\n",
       "Coefficients:\n",
       "                                 Estimate Std. Error t value Pr(>|t|)    \n",
       "(Intercept)                      33.65003    7.97842   4.218 3.10e-05 ***\n",
       "IS_CHARTER                       -8.27418    6.71504  -1.232  0.21866    \n",
       "PC_of_Free_Eligibility          -49.61652    3.38813 -14.644  < 2e-16 ***\n",
       "School_Survey_Involved_Families   1.45715    0.74432   1.958  0.05101 .  \n",
       "Teacher_Retention_Rate            0.20320    0.07608   2.671  0.00790 ** \n",
       "Avg_Class_Size_All_Grades         0.19959    0.06631   3.010  0.00279 ** \n",
       "Chronic_Absenteeism              -0.39619    0.07200  -5.503 6.97e-08 ***\n",
       "---\n",
       "Signif. codes:  0 '***' 0.001 '**' 0.01 '*' 0.05 '.' 0.1 ' ' 1\n",
       "\n",
       "Residual standard error: 10.53 on 373 degrees of freedom\n",
       "  (24 observations deleted due to missingness)\n",
       "Multiple R-squared:  0.6085,\tAdjusted R-squared:  0.6022 \n",
       "F-statistic: 96.64 on 6 and 373 DF,  p-value: < 2.2e-16\n"
      ]
     },
     "metadata": {},
     "output_type": "display_data"
    }
   ],
   "source": [
    "fit <- lm(Math_Proficiency_Total_PC~IS_CHARTER+PC_of_Free_Eligibility+School_Survey_Involved_Families+Teacher_Retention_Rate+Avg_Class_Size_All_Grades+Chronic_Absenteeism,data = df.chi.more.ms)\n",
    "summary(fit)"
   ]
  },
  {
   "cell_type": "code",
   "execution_count": 123,
   "metadata": {},
   "outputs": [
    {
     "data": {
      "text/html": [
       "-56.42695"
      ],
      "text/latex": [
       "-56.42695"
      ],
      "text/markdown": [
       "-56.42695"
      ],
      "text/plain": [
       "[1] -56.42695"
      ]
     },
     "metadata": {},
     "output_type": "display_data"
    }
   ],
   "source": [
    "-8.27418-49.61652+1.45715+0.20320+0.19959-0.39619\n"
   ]
  },
  {
   "cell_type": "code",
   "execution_count": 124,
   "metadata": {},
   "outputs": [
    {
     "data": {
      "text/html": [
       "19.0403"
      ],
      "text/latex": [
       "19.0403"
      ],
      "text/markdown": [
       "19.0403"
      ],
      "text/plain": [
       "[1] 19.0403"
      ]
     },
     "metadata": {},
     "output_type": "display_data"
    }
   ],
   "source": [
    "7.97842+ 6.71504+ 3.38813+0.74432+0.07608+0.06631+0.07200"
   ]
  },
  {
   "cell_type": "code",
   "execution_count": 125,
   "metadata": {},
   "outputs": [
    {
     "data": {
      "text/html": [
       "2.96355362047867"
      ],
      "text/latex": [
       "2.96355362047867"
      ],
      "text/markdown": [
       "2.96355362047867"
      ],
      "text/plain": [
       "[1] 2.963554"
      ]
     },
     "metadata": {},
     "output_type": "display_data"
    }
   ],
   "source": [
    "56.42695/19.0403"
   ]
  },
  {
   "cell_type": "code",
   "execution_count": 126,
   "metadata": {},
   "outputs": [
    {
     "data": {
      "text/html": [
       "1.96644894631213"
      ],
      "text/latex": [
       "1.96644894631213"
      ],
      "text/markdown": [
       "1.96644894631213"
      ],
      "text/plain": [
       "[1] 1.966449"
      ]
     },
     "metadata": {},
     "output_type": "display_data"
    }
   ],
   "source": [
    "qt(.975,367)"
   ]
  },
  {
   "cell_type": "markdown",
   "metadata": {},
   "source": [
    "#### Residuals are distributed along the mean value"
   ]
  },
  {
   "cell_type": "code",
   "execution_count": 127,
   "metadata": {},
   "outputs": [
    {
     "data": {
      "image/png": "[encoded data removed]",
      "text/plain": [
       "plot without title"
      ]
     },
     "metadata": {},
     "output_type": "display_data"
    }
   ],
   "source": [
    "\n",
    "#boxplot(fit$resid)\n",
    "plot(fit$resid)"
   ]
  },
  {
   "cell_type": "code",
   "execution_count": 128,
   "metadata": {},
   "outputs": [
    {
     "data": {
      "text/html": [
       "<table>\n",
       "<thead><tr><th></th><th scope=col>Df</th><th scope=col>Sum Sq</th><th scope=col>Mean Sq</th><th scope=col>F value</th><th scope=col>Pr(&gt;F)</th></tr></thead>\n",
       "<tbody>\n",
       "\t<tr><th scope=row>IS_CHARTER</th><td>  1         </td><td>  130.8821  </td><td>  130.8821  </td><td>  1.179301  </td><td>2.781997e-01</td></tr>\n",
       "\t<tr><th scope=row>PC_of_Free_Eligibility</th><td>  1         </td><td>56167.5570  </td><td>56167.5570  </td><td>506.092408  </td><td>1.977447e-71</td></tr>\n",
       "\t<tr><th scope=row>School_Survey_Involved_Families</th><td>  1         </td><td> 1766.7423  </td><td> 1766.7423  </td><td> 15.919063  </td><td>7.959370e-05</td></tr>\n",
       "\t<tr><th scope=row>Teacher_Retention_Rate</th><td>  1         </td><td> 1265.0220  </td><td> 1265.0220  </td><td> 11.398360  </td><td>8.124087e-04</td></tr>\n",
       "\t<tr><th scope=row>Avg_Class_Size_All_Grades</th><td>  1         </td><td> 1661.2671  </td><td> 1661.2671  </td><td> 14.968689  </td><td>1.289860e-04</td></tr>\n",
       "\t<tr><th scope=row>Chronic_Absenteeism</th><td>  1         </td><td> 3360.3336  </td><td> 3360.3336  </td><td> 30.277965  </td><td>6.970068e-08</td></tr>\n",
       "\t<tr><th scope=row>Residuals</th><td>373         </td><td>41396.5878  </td><td>  110.9828  </td><td>        NA  </td><td>          NA</td></tr>\n",
       "</tbody>\n",
       "</table>\n"
      ],
      "text/latex": [
       "\\begin{tabular}{r|lllll}\n",
       "  & Df & Sum Sq & Mean Sq & F value & Pr(>F)\\\\\n",
       "\\hline\n",
       "\tIS\\_CHARTER &   1          &   130.8821   &   130.8821   &   1.179301   & 2.781997e-01\\\\\n",
       "\tPC\\_of\\_Free\\_Eligibility &   1          & 56167.5570   & 56167.5570   & 506.092408   & 1.977447e-71\\\\\n",
       "\tSchool\\_Survey\\_Involved\\_Families &   1          &  1766.7423   &  1766.7423   &  15.919063   & 7.959370e-05\\\\\n",
       "\tTeacher\\_Retention\\_Rate &   1          &  1265.0220   &  1265.0220   &  11.398360   & 8.124087e-04\\\\\n",
       "\tAvg\\_Class\\_Size\\_All\\_Grades &   1          &  1661.2671   &  1661.2671   &  14.968689   & 1.289860e-04\\\\\n",
       "\tChronic\\_Absenteeism &   1          &  3360.3336   &  3360.3336   &  30.277965   & 6.970068e-08\\\\\n",
       "\tResiduals & 373          & 41396.5878   &   110.9828   &         NA   &           NA\\\\\n",
       "\\end{tabular}\n"
      ],
      "text/markdown": [
       "\n",
       "| <!--/--> | Df | Sum Sq | Mean Sq | F value | Pr(>F) | \n",
       "|---|---|---|---|---|---|---|\n",
       "| IS_CHARTER |   1          |   130.8821   |   130.8821   |   1.179301   | 2.781997e-01 | \n",
       "| PC_of_Free_Eligibility |   1          | 56167.5570   | 56167.5570   | 506.092408   | 1.977447e-71 | \n",
       "| School_Survey_Involved_Families |   1          |  1766.7423   |  1766.7423   |  15.919063   | 7.959370e-05 | \n",
       "| Teacher_Retention_Rate |   1          |  1265.0220   |  1265.0220   |  11.398360   | 8.124087e-04 | \n",
       "| Avg_Class_Size_All_Grades |   1          |  1661.2671   |  1661.2671   |  14.968689   | 1.289860e-04 | \n",
       "| Chronic_Absenteeism |   1          |  3360.3336   |  3360.3336   |  30.277965   | 6.970068e-08 | \n",
       "| Residuals | 373          | 41396.5878   |   110.9828   |         NA   |           NA | \n",
       "\n",
       "\n"
      ],
      "text/plain": [
       "                                Df  Sum Sq     Mean Sq    F value   \n",
       "IS_CHARTER                        1   130.8821   130.8821   1.179301\n",
       "PC_of_Free_Eligibility            1 56167.5570 56167.5570 506.092408\n",
       "School_Survey_Involved_Families   1  1766.7423  1766.7423  15.919063\n",
       "Teacher_Retention_Rate            1  1265.0220  1265.0220  11.398360\n",
       "Avg_Class_Size_All_Grades         1  1661.2671  1661.2671  14.968689\n",
       "Chronic_Absenteeism               1  3360.3336  3360.3336  30.277965\n",
       "Residuals                       373 41396.5878   110.9828         NA\n",
       "                                Pr(>F)      \n",
       "IS_CHARTER                      2.781997e-01\n",
       "PC_of_Free_Eligibility          1.977447e-71\n",
       "School_Survey_Involved_Families 7.959370e-05\n",
       "Teacher_Retention_Rate          8.124087e-04\n",
       "Avg_Class_Size_All_Grades       1.289860e-04\n",
       "Chronic_Absenteeism             6.970068e-08\n",
       "Residuals                                 NA"
      ]
     },
     "metadata": {},
     "output_type": "display_data"
    }
   ],
   "source": [
    "anova(fit)"
   ]
  },
  {
   "cell_type": "code",
   "execution_count": null,
   "metadata": {},
   "outputs": [],
   "source": []
  },
  {
   "cell_type": "code",
   "execution_count": 129,
   "metadata": {},
   "outputs": [
    {
     "data": {
      "text/html": [
       "3.86650989544284"
      ],
      "text/latex": [
       "3.86650989544284"
      ],
      "text/markdown": [
       "3.86650989544284"
      ],
      "text/plain": [
       "[1] 3.86651"
      ]
     },
     "metadata": {},
     "output_type": "display_data"
    }
   ],
   "source": [
    "qf(.95,1,373)"
   ]
  },
  {
   "cell_type": "code",
   "execution_count": 130,
   "metadata": {},
   "outputs": [
    {
     "data": {
      "image/png": "[encoded data removed]",
      "text/plain": [
       "plot without title"
      ]
     },
     "metadata": {},
     "output_type": "display_data"
    }
   ],
   "source": [
    "plot(df.chi.more.es$IS_CHARTER,df.chi.more.es$Math_Proficiency_Total_PC)"
   ]
  },
  {
   "cell_type": "code",
   "execution_count": 132,
   "metadata": {},
   "outputs": [],
   "source": [
    "df.chi.full.es.nocharter <- df.chi.full.es[which(df.chi.full.es$IS_CHARTER==0),]"
   ]
  },
  {
   "cell_type": "code",
   "execution_count": 189,
   "metadata": {},
   "outputs": [
    {
     "name": "stderr",
     "output_type": "stream",
     "text": [
      "Warning message in leaps.setup(x, y, wt = wt, nbest = nbest, nvmax = nvmax, force.in = force.in, :\n",
      "\"1  linear dependencies found\""
     ]
    },
    {
     "name": "stdout",
     "output_type": "stream",
     "text": [
      "Reordering variables and trying again:\n"
     ]
    },
    {
     "data": {
      "text/html": [
       "<table>\n",
       "<thead><tr><th></th><th scope=col>X1</th><th scope=col>X2</th><th scope=col>X3</th><th scope=col>X4</th><th scope=col>X5</th><th scope=col>X6</th><th scope=col>X7</th><th scope=col>X8</th><th scope=col>X9</th><th scope=col>n</th><th scope=col>adjR2</th></tr></thead>\n",
       "<tbody>\n",
       "\t<tr><th scope=row>6  ( 1 )</th><td>         </td><td>*        </td><td>*        </td><td>*        </td><td>         </td><td>*        </td><td>*        </td><td>         </td><td>*        </td><td>6        </td><td>0.6273477</td></tr>\n",
       "\t<tr><th scope=row>6  ( 2 )</th><td>         </td><td>*        </td><td>         </td><td>*        </td><td>         </td><td>*        </td><td>*        </td><td>*        </td><td>*        </td><td>6        </td><td>0.6268228</td></tr>\n",
       "\t<tr><th scope=row>8  ( 1 )</th><td>*        </td><td>*        </td><td>*        </td><td>*        </td><td>         </td><td>*        </td><td>*        </td><td>*        </td><td>*        </td><td>8        </td><td>0.6264997</td></tr>\n",
       "\t<tr><th scope=row>6  ( 3 )</th><td>         </td><td>*        </td><td>*        </td><td>*        </td><td>         </td><td>*        </td><td>         </td><td>*        </td><td>*        </td><td>6        </td><td>0.6263584</td></tr>\n",
       "\t<tr><th scope=row>5  ( 1 )</th><td>         </td><td>*        </td><td>         </td><td>*        </td><td>         </td><td>*        </td><td>         </td><td>*        </td><td>*        </td><td>5        </td><td>0.6260796</td></tr>\n",
       "\t<tr><th scope=row>5  ( 2 )</th><td>         </td><td>*        </td><td>*        </td><td>*        </td><td>         </td><td>*        </td><td>         </td><td>         </td><td>*        </td><td>5        </td><td>0.6259217</td></tr>\n",
       "\t<tr><th scope=row>5  ( 3 )</th><td>         </td><td>*        </td><td>         </td><td>*        </td><td>         </td><td>*        </td><td>*        </td><td>         </td><td>*        </td><td>5        </td><td>0.6253731</td></tr>\n",
       "\t<tr><th scope=row>4  ( 1 )</th><td>         </td><td>*        </td><td>         </td><td>*        </td><td>         </td><td>*        </td><td>         </td><td>         </td><td>*        </td><td>4        </td><td>0.6244558</td></tr>\n",
       "\t<tr><th scope=row>4  ( 2 )</th><td>         </td><td>*        </td><td>*        </td><td>         </td><td>         </td><td>*        </td><td>         </td><td>         </td><td>*        </td><td>4        </td><td>0.6240068</td></tr>\n",
       "\t<tr><th scope=row>4  ( 3 )</th><td>         </td><td>*        </td><td>         </td><td>         </td><td>         </td><td>*        </td><td>         </td><td>*        </td><td>*        </td><td>4        </td><td>0.6231201</td></tr>\n",
       "\t<tr><th scope=row>3  ( 1 )</th><td>         </td><td>*        </td><td>         </td><td>         </td><td>         </td><td>*        </td><td>         </td><td>         </td><td>*        </td><td>3        </td><td>0.6213707</td></tr>\n",
       "\t<tr><th scope=row>3  ( 2 )</th><td>         </td><td>*        </td><td>         </td><td>*        </td><td>         </td><td>         </td><td>         </td><td>         </td><td>*        </td><td>3        </td><td>0.6162728</td></tr>\n",
       "\t<tr><th scope=row>3  ( 3 )</th><td>         </td><td>*        </td><td>*        </td><td>         </td><td>         </td><td>         </td><td>         </td><td>         </td><td>*        </td><td>3        </td><td>0.6141545</td></tr>\n",
       "\t<tr><th scope=row>2  ( 1 )</th><td>         </td><td>*        </td><td>         </td><td>         </td><td>         </td><td>         </td><td>         </td><td>         </td><td>*        </td><td>2        </td><td>0.6119147</td></tr>\n",
       "\t<tr><th scope=row>7  ( 1 )</th><td>*        </td><td>*        </td><td>*        </td><td>*        </td><td>         </td><td>*        </td><td>*        </td><td>*        </td><td>         </td><td>7        </td><td>0.5932195</td></tr>\n",
       "\t<tr><th scope=row>2  ( 2 )</th><td>         </td><td>*        </td><td>         </td><td>         </td><td>         </td><td>*        </td><td>         </td><td>         </td><td>         </td><td>2        </td><td>0.5695072</td></tr>\n",
       "\t<tr><th scope=row>2  ( 3 )</th><td>         </td><td>*        </td><td>*        </td><td>         </td><td>         </td><td>         </td><td>         </td><td>         </td><td>         </td><td>2        </td><td>0.5648139</td></tr>\n",
       "\t<tr><th scope=row>1  ( 1 )</th><td>         </td><td>*        </td><td>         </td><td>         </td><td>         </td><td>         </td><td>         </td><td>         </td><td>         </td><td>1        </td><td>0.5494204</td></tr>\n",
       "\t<tr><th scope=row>1  ( 2 )</th><td>         </td><td>         </td><td>         </td><td>         </td><td>         </td><td>         </td><td>         </td><td>         </td><td>*        </td><td>1        </td><td>0.3386458</td></tr>\n",
       "\t<tr><th scope=row>1  ( 3 )</th><td>         </td><td>         </td><td>*        </td><td>         </td><td>         </td><td>         </td><td>         </td><td>         </td><td>         </td><td>1        </td><td>0.2105825</td></tr>\n",
       "</tbody>\n",
       "</table>\n"
      ],
      "text/latex": [
       "\\begin{tabular}{r|lllllllllll}\n",
       "  & X1 & X2 & X3 & X4 & X5 & X6 & X7 & X8 & X9 & n & adjR2\\\\\n",
       "\\hline\n",
       "\t6  ( 1 ) &           & *         & *         & *         &           & *         & *         &           & *         & 6         & 0.6273477\\\\\n",
       "\t6  ( 2 ) &           & *         &           & *         &           & *         & *         & *         & *         & 6         & 0.6268228\\\\\n",
       "\t8  ( 1 ) & *         & *         & *         & *         &           & *         & *         & *         & *         & 8         & 0.6264997\\\\\n",
       "\t6  ( 3 ) &           & *         & *         & *         &           & *         &           & *         & *         & 6         & 0.6263584\\\\\n",
       "\t5  ( 1 ) &           & *         &           & *         &           & *         &           & *         & *         & 5         & 0.6260796\\\\\n",
       "\t5  ( 2 ) &           & *         & *         & *         &           & *         &           &           & *         & 5         & 0.6259217\\\\\n",
       "\t5  ( 3 ) &           & *         &           & *         &           & *         & *         &           & *         & 5         & 0.6253731\\\\\n",
       "\t4  ( 1 ) &           & *         &           & *         &           & *         &           &           & *         & 4         & 0.6244558\\\\\n",
       "\t4  ( 2 ) &           & *         & *         &           &           & *         &           &           & *         & 4         & 0.6240068\\\\\n",
       "\t4  ( 3 ) &           & *         &           &           &           & *         &           & *         & *         & 4         & 0.6231201\\\\\n",
       "\t3  ( 1 ) &           & *         &           &           &           & *         &           &           & *         & 3         & 0.6213707\\\\\n",
       "\t3  ( 2 ) &           & *         &           & *         &           &           &           &           & *         & 3         & 0.6162728\\\\\n",
       "\t3  ( 3 ) &           & *         & *         &           &           &           &           &           & *         & 3         & 0.6141545\\\\\n",
       "\t2  ( 1 ) &           & *         &           &           &           &           &           &           & *         & 2         & 0.6119147\\\\\n",
       "\t7  ( 1 ) & *         & *         & *         & *         &           & *         & *         & *         &           & 7         & 0.5932195\\\\\n",
       "\t2  ( 2 ) &           & *         &           &           &           & *         &           &           &           & 2         & 0.5695072\\\\\n",
       "\t2  ( 3 ) &           & *         & *         &           &           &           &           &           &           & 2         & 0.5648139\\\\\n",
       "\t1  ( 1 ) &           & *         &           &           &           &           &           &           &           & 1         & 0.5494204\\\\\n",
       "\t1  ( 2 ) &           &           &           &           &           &           &           &           & *         & 1         & 0.3386458\\\\\n",
       "\t1  ( 3 ) &           &           & *         &           &           &           &           &           &           & 1         & 0.2105825\\\\\n",
       "\\end{tabular}\n"
      ],
      "text/markdown": [
       "\n",
       "| <!--/--> | X1 | X2 | X3 | X4 | X5 | X6 | X7 | X8 | X9 | n | adjR2 | \n",
       "|---|---|---|---|---|---|---|---|---|---|---|---|---|---|---|---|---|---|---|---|\n",
       "| 6  ( 1 ) |           | *         | *         | *         |           | *         | *         |           | *         | 6         | 0.6273477 | \n",
       "| 6  ( 2 ) |           | *         |           | *         |           | *         | *         | *         | *         | 6         | 0.6268228 | \n",
       "| 8  ( 1 ) | *         | *         | *         | *         |           | *         | *         | *         | *         | 8         | 0.6264997 | \n",
       "| 6  ( 3 ) |           | *         | *         | *         |           | *         |           | *         | *         | 6         | 0.6263584 | \n",
       "| 5  ( 1 ) |           | *         |           | *         |           | *         |           | *         | *         | 5         | 0.6260796 | \n",
       "| 5  ( 2 ) |           | *         | *         | *         |           | *         |           |           | *         | 5         | 0.6259217 | \n",
       "| 5  ( 3 ) |           | *         |           | *         |           | *         | *         |           | *         | 5         | 0.6253731 | \n",
       "| 4  ( 1 ) |           | *         |           | *         |           | *         |           |           | *         | 4         | 0.6244558 | \n",
       "| 4  ( 2 ) |           | *         | *         |           |           | *         |           |           | *         | 4         | 0.6240068 | \n",
       "| 4  ( 3 ) |           | *         |           |           |           | *         |           | *         | *         | 4         | 0.6231201 | \n",
       "| 3  ( 1 ) |           | *         |           |           |           | *         |           |           | *         | 3         | 0.6213707 | \n",
       "| 3  ( 2 ) |           | *         |           | *         |           |           |           |           | *         | 3         | 0.6162728 | \n",
       "| 3  ( 3 ) |           | *         | *         |           |           |           |           |           | *         | 3         | 0.6141545 | \n",
       "| 2  ( 1 ) |           | *         |           |           |           |           |           |           | *         | 2         | 0.6119147 | \n",
       "| 7  ( 1 ) | *         | *         | *         | *         |           | *         | *         | *         |           | 7         | 0.5932195 | \n",
       "| 2  ( 2 ) |           | *         |           |           |           | *         |           |           |           | 2         | 0.5695072 | \n",
       "| 2  ( 3 ) |           | *         | *         |           |           |           |           |           |           | 2         | 0.5648139 | \n",
       "| 1  ( 1 ) |           | *         |           |           |           |           |           |           |           | 1         | 0.5494204 | \n",
       "| 1  ( 2 ) |           |           |           |           |           |           |           |           | *         | 1         | 0.3386458 | \n",
       "| 1  ( 3 ) |           |           | *         |           |           |           |           |           |           | 1         | 0.2105825 | \n",
       "\n",
       "\n"
      ],
      "text/plain": [
       "         X1 X2 X3 X4 X5 X6 X7 X8 X9 n adjR2    \n",
       "6  ( 1 )    *  *  *     *  *     *  6 0.6273477\n",
       "6  ( 2 )    *     *     *  *  *  *  6 0.6268228\n",
       "8  ( 1 ) *  *  *  *     *  *  *  *  8 0.6264997\n",
       "6  ( 3 )    *  *  *     *     *  *  6 0.6263584\n",
       "5  ( 1 )    *     *     *     *  *  5 0.6260796\n",
       "5  ( 2 )    *  *  *     *        *  5 0.6259217\n",
       "5  ( 3 )    *     *     *  *     *  5 0.6253731\n",
       "4  ( 1 )    *     *     *        *  4 0.6244558\n",
       "4  ( 2 )    *  *        *        *  4 0.6240068\n",
       "4  ( 3 )    *           *     *  *  4 0.6231201\n",
       "3  ( 1 )    *           *        *  3 0.6213707\n",
       "3  ( 2 )    *     *              *  3 0.6162728\n",
       "3  ( 3 )    *  *                 *  3 0.6141545\n",
       "2  ( 1 )    *                    *  2 0.6119147\n",
       "7  ( 1 ) *  *  *  *     *  *  *     7 0.5932195\n",
       "2  ( 2 )    *           *           2 0.5695072\n",
       "2  ( 3 )    *  *                    2 0.5648139\n",
       "1  ( 1 )    *                       1 0.5494204\n",
       "1  ( 2 )                         *  1 0.3386458\n",
       "1  ( 3 )       *                    1 0.2105825"
      ]
     },
     "metadata": {},
     "output_type": "display_data"
    }
   ],
   "source": [
    "best3 <-\n",
    "    regsubsets(Math_Proficiency_Total_PC ~ IS_CHARTER + Student_Enrollment_Low_Income_PC + School_Survey_Involved_Families + Teacher_Retention_Rate + Teacher_Attendance_Avg_Pct + Avg_Class_Size_All_Grades + Avg_Number_of_days_of_Physical_Education_Per_Week_Per_Student + School_Survey_Safety + Chronic_Absenteeism,\n",
    "               data = df.chi.full.es,\n",
    "               nbest = 3,       # 1 best model for each number of predictors\n",
    "               nvmax = NULL,    # NULL for no limit on number of variables\n",
    "               force.in = NULL, force.out = NULL,\n",
    "               method=c(\"seqrep\",\"forward\",\"backward\",\"exhaustive\"))\n",
    "report3 <- summary(best3)\n",
    "report3rn <- rownames(report3$outmat)\n",
    "report3df <- cbind(as.data.frame(report3$outmat),as.numeric(substr(report3rn,1,1)),report3$adjr2)\n",
    "colnames(report3df)<- c(\"X1\", \"X2\", \"X3\", \"X4\", \"X5\", \"X6\", \"X7\", \"X8\", \"X9\" ,\"n\", \"adjR2\")\n",
    "report3dfs <- report3df[order(-report3df$adjR2),]\n",
    "report3dfs"
   ]
  },
  {
   "cell_type": "code",
   "execution_count": 134,
   "metadata": {},
   "outputs": [
    {
     "ename": "ERROR",
     "evalue": "Error in glmulti(Math_Proficiency_Total_PC ~ IS_CHARTER + PC_of_Free_Eligibility + : could not find function \"glmulti\"\n",
     "output_type": "error",
     "traceback": [
      "Error in glmulti(Math_Proficiency_Total_PC ~ IS_CHARTER + PC_of_Free_Eligibility + : could not find function \"glmulti\"\nTraceback:\n"
     ]
    }
   ],
   "source": [
    "glmulti.lm.out <-\n",
    "    glmulti(Math_Proficiency_Total_PC ~ IS_CHARTER + PC_of_Free_Eligibility + School_Survey_Involved_Families + Teacher_Retention_Rate + Avg_Class_Size_All_Grades + Avg_Number_of_days_of_Physical_Education_Per_Week_Per_Student + School_Survey_Safety + Chronic_Absenteeism,\n",
    "            data = df.chi.full.es,\n",
    "            level = 1,               # No interaction considered\n",
    "            method = \"h\",            # Exhaustive approach\n",
    "            crit = \"bic\",            # AIC as criteria\n",
    "            confsetsize = 5,         # Keep 5 best models\n",
    "            plotty = T, report = T,  # No plot or interim reports\n",
    "            fitfunction = \"lm\")      # lm function\n",
    "\n",
    "## Show 5 best models (Use @ instead of $ for an S4 object)\n",
    "glmulti.lm.out@formulas"
   ]
  },
  {
   "cell_type": "code",
   "execution_count": 190,
   "metadata": {},
   "outputs": [
    {
     "data": {
      "text/html": [
       "<table>\n",
       "<thead><tr><th></th><th scope=col>Df</th><th scope=col>Sum Sq</th><th scope=col>Mean Sq</th><th scope=col>F value</th><th scope=col>Pr(&gt;F)</th></tr></thead>\n",
       "<tbody>\n",
       "\t<tr><th scope=row>IS_CHARTER</th><td>  1         </td><td>  326.4994  </td><td>  326.4994  </td><td>  3.053335  </td><td>8.140793e-02</td></tr>\n",
       "\t<tr><th scope=row>PC_of_Free_Eligibility</th><td>  1         </td><td>58285.5057  </td><td>58285.5057  </td><td>545.070449  </td><td>1.518184e-74</td></tr>\n",
       "\t<tr><th scope=row>School_Survey_Involved_Families</th><td>  1         </td><td> 1987.9975  </td><td> 1987.9975  </td><td> 18.591221  </td><td>2.083872e-05</td></tr>\n",
       "\t<tr><th scope=row>Teacher_Retention_Rate</th><td>  1         </td><td> 1218.5002  </td><td> 1218.5002  </td><td> 11.395088  </td><td>8.151032e-04</td></tr>\n",
       "\t<tr><th scope=row>Avg_Class_Size_All_Grades</th><td>  1         </td><td> 1920.9188  </td><td> 1920.9188  </td><td> 17.963918  </td><td>2.851509e-05</td></tr>\n",
       "\t<tr><th scope=row>School_Survey_Safety</th><td>  1         </td><td>  577.1270  </td><td>  577.1270  </td><td>  5.397137  </td><td>2.071572e-02</td></tr>\n",
       "\t<tr><th scope=row>Chronic_Absenteeism</th><td>  1         </td><td> 3769.4548  </td><td> 3769.4548  </td><td> 35.250932  </td><td>6.721913e-09</td></tr>\n",
       "\t<tr><th scope=row>Residuals</th><td>367         </td><td>39244.0659  </td><td>  106.9321  </td><td>        NA  </td><td>          NA</td></tr>\n",
       "</tbody>\n",
       "</table>\n"
      ],
      "text/latex": [
       "\\begin{tabular}{r|lllll}\n",
       "  & Df & Sum Sq & Mean Sq & F value & Pr(>F)\\\\\n",
       "\\hline\n",
       "\tIS\\_CHARTER &   1          &   326.4994   &   326.4994   &   3.053335   & 8.140793e-02\\\\\n",
       "\tPC\\_of\\_Free\\_Eligibility &   1          & 58285.5057   & 58285.5057   & 545.070449   & 1.518184e-74\\\\\n",
       "\tSchool\\_Survey\\_Involved\\_Families &   1          &  1987.9975   &  1987.9975   &  18.591221   & 2.083872e-05\\\\\n",
       "\tTeacher\\_Retention\\_Rate &   1          &  1218.5002   &  1218.5002   &  11.395088   & 8.151032e-04\\\\\n",
       "\tAvg\\_Class\\_Size\\_All\\_Grades &   1          &  1920.9188   &  1920.9188   &  17.963918   & 2.851509e-05\\\\\n",
       "\tSchool\\_Survey\\_Safety &   1          &   577.1270   &   577.1270   &   5.397137   & 2.071572e-02\\\\\n",
       "\tChronic\\_Absenteeism &   1          &  3769.4548   &  3769.4548   &  35.250932   & 6.721913e-09\\\\\n",
       "\tResiduals & 367          & 39244.0659   &   106.9321   &         NA   &           NA\\\\\n",
       "\\end{tabular}\n"
      ],
      "text/markdown": [
       "\n",
       "| <!--/--> | Df | Sum Sq | Mean Sq | F value | Pr(>F) | \n",
       "|---|---|---|---|---|---|---|---|\n",
       "| IS_CHARTER |   1          |   326.4994   |   326.4994   |   3.053335   | 8.140793e-02 | \n",
       "| PC_of_Free_Eligibility |   1          | 58285.5057   | 58285.5057   | 545.070449   | 1.518184e-74 | \n",
       "| School_Survey_Involved_Families |   1          |  1987.9975   |  1987.9975   |  18.591221   | 2.083872e-05 | \n",
       "| Teacher_Retention_Rate |   1          |  1218.5002   |  1218.5002   |  11.395088   | 8.151032e-04 | \n",
       "| Avg_Class_Size_All_Grades |   1          |  1920.9188   |  1920.9188   |  17.963918   | 2.851509e-05 | \n",
       "| School_Survey_Safety |   1          |   577.1270   |   577.1270   |   5.397137   | 2.071572e-02 | \n",
       "| Chronic_Absenteeism |   1          |  3769.4548   |  3769.4548   |  35.250932   | 6.721913e-09 | \n",
       "| Residuals | 367          | 39244.0659   |   106.9321   |         NA   |           NA | \n",
       "\n",
       "\n"
      ],
      "text/plain": [
       "                                Df  Sum Sq     Mean Sq    F value   \n",
       "IS_CHARTER                        1   326.4994   326.4994   3.053335\n",
       "PC_of_Free_Eligibility            1 58285.5057 58285.5057 545.070449\n",
       "School_Survey_Involved_Families   1  1987.9975  1987.9975  18.591221\n",
       "Teacher_Retention_Rate            1  1218.5002  1218.5002  11.395088\n",
       "Avg_Class_Size_All_Grades         1  1920.9188  1920.9188  17.963918\n",
       "School_Survey_Safety              1   577.1270   577.1270   5.397137\n",
       "Chronic_Absenteeism               1  3769.4548  3769.4548  35.250932\n",
       "Residuals                       367 39244.0659   106.9321         NA\n",
       "                                Pr(>F)      \n",
       "IS_CHARTER                      8.140793e-02\n",
       "PC_of_Free_Eligibility          1.518184e-74\n",
       "School_Survey_Involved_Families 2.083872e-05\n",
       "Teacher_Retention_Rate          8.151032e-04\n",
       "Avg_Class_Size_All_Grades       2.851509e-05\n",
       "School_Survey_Safety            2.071572e-02\n",
       "Chronic_Absenteeism             6.721913e-09\n",
       "Residuals                                 NA"
      ]
     },
     "metadata": {},
     "output_type": "display_data"
    }
   ],
   "source": [
    "lm1 <- lm(Math_Proficiency_Total_PC ~ IS_CHARTER+PC_of_Free_Eligibility + School_Survey_Involved_Families + Teacher_Retention_Rate + Avg_Class_Size_All_Grades + School_Survey_Safety + Chronic_Absenteeism,\n",
    "            data = df.chi.full.es)\n",
    "anova(lm1)"
   ]
  },
  {
   "cell_type": "code",
   "execution_count": null,
   "metadata": {},
   "outputs": [],
   "source": []
  },
  {
   "cell_type": "code",
   "execution_count": 205,
   "metadata": {},
   "outputs": [
    {
     "data": {
      "text/plain": [
       "\n",
       "Call:\n",
       "lm(formula = Math_Proficiency_Total_PC ~ IS_CHARTER + PC_of_Free_Eligibility + \n",
       "    School_Survey_Involved_Families + Teacher_Retention_Rate + \n",
       "    Avg_Class_Size_All_Grades + School_Survey_Safety + Chronic_Absenteeism, \n",
       "    data = df.chi.full.es)\n",
       "\n",
       "Residuals:\n",
       "    Min      1Q  Median      3Q     Max \n",
       "-40.451  -5.356  -0.729   4.995  42.512 \n",
       "\n",
       "Coefficients:\n",
       "                                 Estimate Std. Error t value Pr(>|t|)    \n",
       "(Intercept)                      34.38877    7.71823   4.456 1.11e-05 ***\n",
       "IS_CHARTER                      -13.05910    5.97137  -2.187  0.02938 *  \n",
       "PC_of_Free_Eligibility          -46.87737    3.47580 -13.487  < 2e-16 ***\n",
       "School_Survey_Involved_Families   0.87466    0.79844   1.095  0.27404    \n",
       "Teacher_Retention_Rate            0.18482    0.07054   2.620  0.00916 ** \n",
       "Avg_Class_Size_All_Grades         0.21138    0.06587   3.209  0.00145 ** \n",
       "School_Survey_Safety              0.92201    0.57712   1.598  0.11099    \n",
       "Chronic_Absenteeism              -0.52159    0.08785  -5.937 6.72e-09 ***\n",
       "---\n",
       "Signif. codes:  0 '***' 0.001 '**' 0.01 '*' 0.05 '.' 0.1 ' ' 1\n",
       "\n",
       "Residual standard error: 10.34 on 367 degrees of freedom\n",
       "  (38 observations deleted due to missingness)\n",
       "Multiple R-squared:  0.6344,\tAdjusted R-squared:  0.6274 \n",
       "F-statistic: 90.96 on 7 and 367 DF,  p-value: < 2.2e-16\n"
      ]
     },
     "metadata": {},
     "output_type": "display_data"
    }
   ],
   "source": [
    "summary(lm1)"
   ]
  },
  {
   "cell_type": "code",
   "execution_count": 191,
   "metadata": {},
   "outputs": [
    {
     "data": {
      "text/html": [
       "<table>\n",
       "<thead><tr><th></th><th scope=col>Df</th><th scope=col>Sum Sq</th><th scope=col>Mean Sq</th><th scope=col>F value</th><th scope=col>Pr(&gt;F)</th></tr></thead>\n",
       "<tbody>\n",
       "\t<tr><th scope=row>IS_CHARTER</th><td>  1         </td><td>  326.4994  </td><td>  326.4994  </td><td>  3.036266  </td><td>8.226063e-02</td></tr>\n",
       "\t<tr><th scope=row>Student_Enrollment_Low_Income_PC</th><td>  1         </td><td>58585.6111  </td><td>58585.6111  </td><td>544.814233  </td><td>1.598657e-74</td></tr>\n",
       "\t<tr><th scope=row>School_Survey_Involved_Families</th><td>  1         </td><td> 1707.1785  </td><td> 1707.1785  </td><td> 15.875829  </td><td>8.159570e-05</td></tr>\n",
       "\t<tr><th scope=row>Teacher_Retention_Rate</th><td>  1         </td><td>  882.0275  </td><td>  882.0275  </td><td>  8.202375  </td><td>4.424003e-03</td></tr>\n",
       "\t<tr><th scope=row>Avg_Class_Size_All_Grades</th><td>  1         </td><td> 1922.1763  </td><td> 1922.1763  </td><td> 17.875191  </td><td>2.981084e-05</td></tr>\n",
       "\t<tr><th scope=row>School_Survey_Safety</th><td>  1         </td><td>  389.3767  </td><td>  389.3767  </td><td>  3.620991  </td><td>5.783721e-02</td></tr>\n",
       "\t<tr><th scope=row>Chronic_Absenteeism</th><td>  1         </td><td> 4052.5200  </td><td> 4052.5200  </td><td> 37.686226  </td><td>2.157640e-09</td></tr>\n",
       "\t<tr><th scope=row>Residuals</th><td>367         </td><td>39464.6798  </td><td>  107.5332  </td><td>        NA  </td><td>          NA</td></tr>\n",
       "</tbody>\n",
       "</table>\n"
      ],
      "text/latex": [
       "\\begin{tabular}{r|lllll}\n",
       "  & Df & Sum Sq & Mean Sq & F value & Pr(>F)\\\\\n",
       "\\hline\n",
       "\tIS\\_CHARTER &   1          &   326.4994   &   326.4994   &   3.036266   & 8.226063e-02\\\\\n",
       "\tStudent\\_Enrollment\\_Low\\_Income\\_PC &   1          & 58585.6111   & 58585.6111   & 544.814233   & 1.598657e-74\\\\\n",
       "\tSchool\\_Survey\\_Involved\\_Families &   1          &  1707.1785   &  1707.1785   &  15.875829   & 8.159570e-05\\\\\n",
       "\tTeacher\\_Retention\\_Rate &   1          &   882.0275   &   882.0275   &   8.202375   & 4.424003e-03\\\\\n",
       "\tAvg\\_Class\\_Size\\_All\\_Grades &   1          &  1922.1763   &  1922.1763   &  17.875191   & 2.981084e-05\\\\\n",
       "\tSchool\\_Survey\\_Safety &   1          &   389.3767   &   389.3767   &   3.620991   & 5.783721e-02\\\\\n",
       "\tChronic\\_Absenteeism &   1          &  4052.5200   &  4052.5200   &  37.686226   & 2.157640e-09\\\\\n",
       "\tResiduals & 367          & 39464.6798   &   107.5332   &         NA   &           NA\\\\\n",
       "\\end{tabular}\n"
      ],
      "text/markdown": [
       "\n",
       "| <!--/--> | Df | Sum Sq | Mean Sq | F value | Pr(>F) | \n",
       "|---|---|---|---|---|---|---|---|\n",
       "| IS_CHARTER |   1          |   326.4994   |   326.4994   |   3.036266   | 8.226063e-02 | \n",
       "| Student_Enrollment_Low_Income_PC |   1          | 58585.6111   | 58585.6111   | 544.814233   | 1.598657e-74 | \n",
       "| School_Survey_Involved_Families |   1          |  1707.1785   |  1707.1785   |  15.875829   | 8.159570e-05 | \n",
       "| Teacher_Retention_Rate |   1          |   882.0275   |   882.0275   |   8.202375   | 4.424003e-03 | \n",
       "| Avg_Class_Size_All_Grades |   1          |  1922.1763   |  1922.1763   |  17.875191   | 2.981084e-05 | \n",
       "| School_Survey_Safety |   1          |   389.3767   |   389.3767   |   3.620991   | 5.783721e-02 | \n",
       "| Chronic_Absenteeism |   1          |  4052.5200   |  4052.5200   |  37.686226   | 2.157640e-09 | \n",
       "| Residuals | 367          | 39464.6798   |   107.5332   |         NA   |           NA | \n",
       "\n",
       "\n"
      ],
      "text/plain": [
       "                                 Df  Sum Sq     Mean Sq    F value   \n",
       "IS_CHARTER                         1   326.4994   326.4994   3.036266\n",
       "Student_Enrollment_Low_Income_PC   1 58585.6111 58585.6111 544.814233\n",
       "School_Survey_Involved_Families    1  1707.1785  1707.1785  15.875829\n",
       "Teacher_Retention_Rate             1   882.0275   882.0275   8.202375\n",
       "Avg_Class_Size_All_Grades          1  1922.1763  1922.1763  17.875191\n",
       "School_Survey_Safety               1   389.3767   389.3767   3.620991\n",
       "Chronic_Absenteeism                1  4052.5200  4052.5200  37.686226\n",
       "Residuals                        367 39464.6798   107.5332         NA\n",
       "                                 Pr(>F)      \n",
       "IS_CHARTER                       8.226063e-02\n",
       "Student_Enrollment_Low_Income_PC 1.598657e-74\n",
       "School_Survey_Involved_Families  8.159570e-05\n",
       "Teacher_Retention_Rate           4.424003e-03\n",
       "Avg_Class_Size_All_Grades        2.981084e-05\n",
       "School_Survey_Safety             5.783721e-02\n",
       "Chronic_Absenteeism              2.157640e-09\n",
       "Residuals                                  NA"
      ]
     },
     "metadata": {},
     "output_type": "display_data"
    }
   ],
   "source": [
    "lm2 <- lm(Math_Proficiency_Total_PC ~ IS_CHARTER+Student_Enrollment_Low_Income_PC + School_Survey_Involved_Families + Teacher_Retention_Rate + Avg_Class_Size_All_Grades + School_Survey_Safety + Chronic_Absenteeism,\n",
    "            data = df.chi.full.es)\n",
    "anova(lm2)"
   ]
  },
  {
   "cell_type": "code",
   "execution_count": 192,
   "metadata": {},
   "outputs": [
    {
     "data": {
      "image/png": "[encoded data removed]",
      "text/plain": [
       "plot without title"
      ]
     },
     "metadata": {},
     "output_type": "display_data"
    }
   ],
   "source": [
    "plot(lm2$resid)"
   ]
  },
  {
   "cell_type": "code",
   "execution_count": 178,
   "metadata": {},
   "outputs": [
    {
     "ename": "ERROR",
     "evalue": "Error in summary(regsubsets.out): object 'regsubsets.out' not found\n",
     "output_type": "error",
     "traceback": [
      "Error in summary(regsubsets.out): object 'regsubsets.out' not found\nTraceback:\n",
      "1. summary(regsubsets.out)"
     ]
    }
   ],
   "source": [
    "library(leaps)\n",
    "summary.out <- summary(regsubsets.out)\n",
    "as.data.frame(summary.out$outmat)\n",
    "\n",
    "report3df <- cbind(as.data.frame(report3$outmat),as.numeric(substr(report3rn,1,1)),report3$adjr2)\n",
    "colnames(report3df)<- c(\"X1\", \"X2\", \"X3\", \"X1X2\", \"X1X3\", \"X2X3\", \"X12\", \"X22\", \"X32\", \"n\", \"adjR2\")\n",
    "report3dfs <- report3df[order(-report3df$adjR2),]"
   ]
  },
  {
   "cell_type": "markdown",
   "metadata": {},
   "source": [
    "### Residuals"
   ]
  },
  {
   "cell_type": "markdown",
   "metadata": {},
   "source": [
    "### Needed constancy of error variance test\n"
   ]
  },
  {
   "cell_type": "code",
   "execution_count": 291,
   "metadata": {},
   "outputs": [
    {
     "data": {
      "image/png": "[encoded data removed]",
      "text/plain": [
       "plot without title"
      ]
     },
     "metadata": {},
     "output_type": "display_data"
    }
   ],
   "source": [
    "par(mfrow = c(2, 2))\n",
    "#plot(lm1$resid, lm1$fitted,  xlab = \"Residuals\", ylab = \"Predicted Scores\")\n",
    "plot(lm1$resid, lm1$IS_CHARTER,  xlab = \"Residuals\", ylab = \"IS_CHARTER\")\n",
    "plot(lm1$resid, lm1$PC_of_Free_Eligibility,  xlab = \"Residuals\", ylab = \"PC_of_Free_Eligibility\")\n",
    "plot(lm1$resid, lm1$School_Survey_Involved_Families,  xlab = \"Residuals\", ylab = \"School_Survey_Involved_Families\")\n",
    "plot(lm1$resid, lm1$Teacher_Retention_Rate,  xlab = \"Residuals\", ylab = \"Teacher_Retention_Rate\")\n",
    "#plot(lm1$resid, lm1$Avg_Class_Size_All_Grades,  xlab = \"Residuals\", ylab = \"Avg_Class_Size_All_Grades\")\n",
    "#plot(lm1$resid, lm1$School_Survey_Safety,  xlab = \"Residuals\", ylab = \"School_Survey_Safety\")\n",
    "#plot(lm1$resid, lm1$Chronic_Absenteeism,  xlab = \"Residuals\", ylab = \"Chronic_Absenteeism\")"
   ]
  },
  {
   "cell_type": "markdown",
   "metadata": {},
   "source": [
    "### Breusch Pagan Test - Constancy of Error Variance"
   ]
  },
  {
   "cell_type": "code",
   "execution_count": 207,
   "metadata": {},
   "outputs": [
    {
     "name": "stderr",
     "output_type": "stream",
     "text": [
      "Installing package into 'C:/Users/hmishra/Documents/R/win-library/3.5'\n",
      "(as 'lib' is unspecified)\n",
      "Warning message:\n",
      "\"unable to access index for repository http://www.stats.ox.ac.uk/pub/RWin/bin/windows/contrib/3.5:\n",
      "  cannot open URL 'http://www.stats.ox.ac.uk/pub/RWin/bin/windows/contrib/3.5/PACKAGES'\""
     ]
    },
    {
     "name": "stdout",
     "output_type": "stream",
     "text": [
      "package 'lmtest' successfully unpacked and MD5 sums checked\n",
      "\n",
      "The downloaded binary packages are in\n",
      "\tC:\\Users\\hmishra\\AppData\\Local\\Temp\\RtmpgfDMoQ\\downloaded_packages\n"
     ]
    },
    {
     "name": "stderr",
     "output_type": "stream",
     "text": [
      "Loading required package: zoo\n",
      "\n",
      "Attaching package: 'zoo'\n",
      "\n",
      "The following objects are masked from 'package:base':\n",
      "\n",
      "    as.Date, as.Date.numeric\n",
      "\n"
     ]
    },
    {
     "data": {
      "text/plain": [
       "\n",
       "\tstudentized Breusch-Pagan test\n",
       "\n",
       "data:  lm1\n",
       "BP = 86.447, df = 7, p-value = 6.626e-16\n"
      ]
     },
     "metadata": {},
     "output_type": "display_data"
    }
   ],
   "source": [
    "install.packages(\"lmtest\")\n",
    "library(\"lmtest\")\n",
    "bptest(lm1, ~ IS_CHARTER+PC_of_Free_Eligibility + School_Survey_Involved_Families + Teacher_Retention_Rate + Avg_Class_Size_All_Grades + School_Survey_Safety + Chronic_Absenteeism, data = df.chi.full.es, studentize = TRUE)\n",
    "\n",
    "#lm1 <- lm(Math_Proficiency_Total_PC ~ IS_CHARTER+PC_of_Free_Eligibility + School_Survey_Involved_Families + Teacher_Retention_Rate + Avg_Class_Size_All_Grades + School_Survey_Safety + Chronic_Absenteeism,data = df.chi.full.es)"
   ]
  },
  {
   "cell_type": "code",
   "execution_count": 210,
   "metadata": {},
   "outputs": [
    {
     "data": {
      "text/html": [
       "14.0671404493402"
      ],
      "text/latex": [
       "14.0671404493402"
      ],
      "text/markdown": [
       "14.0671404493402"
      ],
      "text/plain": [
       "[1] 14.06714"
      ]
     },
     "metadata": {},
     "output_type": "display_data"
    }
   ],
   "source": [
    "qchisq(.95, df=7) "
   ]
  },
  {
   "cell_type": "markdown",
   "metadata": {},
   "source": [
    "### Residuals distribution "
   ]
  },
  {
   "cell_type": "code",
   "execution_count": 195,
   "metadata": {
    "scrolled": true
   },
   "outputs": [
    {
     "data": {
      "image/png": "[encoded data removed]",
      "text/plain": [
       "Plot with title \"Normal Q-Q Plot\""
      ]
     },
     "metadata": {},
     "output_type": "display_data"
    }
   ],
   "source": [
    "#par(mfrow = c(1, 2))\n",
    "qqnorm(lm1$resid)\n",
    "qqline(lm1$resid)"
   ]
  },
  {
   "cell_type": "code",
   "execution_count": 196,
   "metadata": {},
   "outputs": [
    {
     "data": {
      "image/png": "[encoded data removed]",
      "text/plain": [
       "plot without title"
      ]
     },
     "metadata": {},
     "output_type": "display_data"
    }
   ],
   "source": [
    "boxplot(lm1$resid)"
   ]
  },
  {
   "cell_type": "code",
   "execution_count": 197,
   "metadata": {},
   "outputs": [],
   "source": [
    "remove_outliers <- function(x, na.rm = TRUE, ...) {\n",
    "  qnt <- quantile(x, probs=c(.25, .75), na.rm = na.rm, ...)\n",
    "  H <- 1.5 * IQR(x, na.rm = na.rm)\n",
    "  y <- x\n",
    "  y[x < (qnt[1] - H)] <- NA\n",
    "  y[x > (qnt[2] + H)] <- NA\n",
    "  y\n",
    "}"
   ]
  },
  {
   "cell_type": "code",
   "execution_count": 198,
   "metadata": {},
   "outputs": [
    {
     "data": {
      "image/png": "[encoded data removed]",
      "text/plain": [
       "Plot with title \"Normal Q-Q Plot\""
      ]
     },
     "metadata": {},
     "output_type": "display_data"
    }
   ],
   "source": [
    "clean_resid<- remove_outliers(lm1$resid)\n",
    "#boxplot(clean_resid)\n",
    "qqnorm(clean_resid)\n",
    "qqline(clean_resid)"
   ]
  },
  {
   "cell_type": "code",
   "execution_count": 199,
   "metadata": {},
   "outputs": [
    {
     "data": {
      "text/html": [
       "<dl class=dl-horizontal>\n",
       "\t<dt>IS_CHARTER</dt>\n",
       "\t\t<dd>1.31959942529922</dd>\n",
       "\t<dt>PC_of_Free_Eligibility</dt>\n",
       "\t\t<dd>1.57278315088311</dd>\n",
       "\t<dt>School_Survey_Involved_Families</dt>\n",
       "\t\t<dd>1.58241773411063</dd>\n",
       "\t<dt>Teacher_Retention_Rate</dt>\n",
       "\t\t<dd>1.40276867587917</dd>\n",
       "\t<dt>Avg_Class_Size_All_Grades</dt>\n",
       "\t\t<dd>1.10848939210736</dd>\n",
       "\t<dt>School_Survey_Safety</dt>\n",
       "\t\t<dd>1.41058920436685</dd>\n",
       "\t<dt>Chronic_Absenteeism</dt>\n",
       "\t\t<dd>1.52284600315344</dd>\n",
       "</dl>\n"
      ],
      "text/latex": [
       "\\begin{description*}\n",
       "\\item[IS\\textbackslash{}\\_CHARTER] 1.31959942529922\n",
       "\\item[PC\\textbackslash{}\\_of\\textbackslash{}\\_Free\\textbackslash{}\\_Eligibility] 1.57278315088311\n",
       "\\item[School\\textbackslash{}\\_Survey\\textbackslash{}\\_Involved\\textbackslash{}\\_Families] 1.58241773411063\n",
       "\\item[Teacher\\textbackslash{}\\_Retention\\textbackslash{}\\_Rate] 1.40276867587917\n",
       "\\item[Avg\\textbackslash{}\\_Class\\textbackslash{}\\_Size\\textbackslash{}\\_All\\textbackslash{}\\_Grades] 1.10848939210736\n",
       "\\item[School\\textbackslash{}\\_Survey\\textbackslash{}\\_Safety] 1.41058920436685\n",
       "\\item[Chronic\\textbackslash{}\\_Absenteeism] 1.52284600315344\n",
       "\\end{description*}\n"
      ],
      "text/markdown": [
       "IS_CHARTER\n",
       ":   1.31959942529922PC_of_Free_Eligibility\n",
       ":   1.57278315088311School_Survey_Involved_Families\n",
       ":   1.58241773411063Teacher_Retention_Rate\n",
       ":   1.40276867587917Avg_Class_Size_All_Grades\n",
       ":   1.10848939210736School_Survey_Safety\n",
       ":   1.41058920436685Chronic_Absenteeism\n",
       ":   1.52284600315344\n",
       "\n"
      ],
      "text/plain": [
       "                     IS_CHARTER          PC_of_Free_Eligibility \n",
       "                       1.319599                        1.572783 \n",
       "School_Survey_Involved_Families          Teacher_Retention_Rate \n",
       "                       1.582418                        1.402769 \n",
       "      Avg_Class_Size_All_Grades            School_Survey_Safety \n",
       "                       1.108489                        1.410589 \n",
       "            Chronic_Absenteeism \n",
       "                       1.522846 "
      ]
     },
     "metadata": {},
     "output_type": "display_data"
    }
   ],
   "source": [
    "#install.packages(\"car\")\n",
    "library(\"car\")\n",
    "vif(lm1)"
   ]
  },
  {
   "cell_type": "markdown",
   "metadata": {},
   "source": [
    "### Transfromation : BOX CoX"
   ]
  },
  {
   "cell_type": "code",
   "execution_count": 289,
   "metadata": {
    "scrolled": false
   },
   "outputs": [
    {
     "data": {
      "image/png": "[encoded data removed]",
      "text/plain": [
       "plot without title"
      ]
     },
     "metadata": {},
     "output_type": "display_data"
    },
    {
     "data": {
      "image/png": "[encoded data removed]",
      "text/plain": [
       "plot without title"
      ]
     },
     "metadata": {},
     "output_type": "display_data"
    },
    {
     "data": {
      "image/png": "[encoded data removed]",
      "text/plain": [
       "plot without title"
      ]
     },
     "metadata": {},
     "output_type": "display_data"
    },
    {
     "data": {
      "image/png": "[encoded data removed]",
      "text/plain": [
       "plot without title"
      ]
     },
     "metadata": {},
     "output_type": "display_data"
    }
   ],
   "source": [
    "#transfrom.fit <- boxcox(Math_Proficiency_Total_PC ~ IS_CHARTER+PC_of_Free_Eligibility + School_Survey_Involved_Families + Teacher_Retention_Rate + Avg_Class_Size_All_Grades + School_Survey_Safety + Chronic_Absenteeism,data = df.chi.full.es)\n",
    "#par(mfrow = c(1, 2))\n",
    "boxcox(lm1)\n",
    "boxcox(lm1, lambda=seq(-10,10))\n",
    "boxcox(lm1, lambda=seq(0,5,0.1))\n",
    "boxcox(lm1, lambda=seq(1,3,0.1))\n",
    "#boxcox(lm1, lambda=seq(1,3,0.1))"
   ]
  },
  {
   "cell_type": "markdown",
   "metadata": {},
   "source": [
    "### Model 2"
   ]
  },
  {
   "cell_type": "code",
   "execution_count": 290,
   "metadata": {},
   "outputs": [
    {
     "data": {
      "text/plain": [
       "\n",
       "Call:\n",
       "lm(formula = transfromed_scores ~ IS_CHARTER + PC_of_Free_Eligibility + \n",
       "    School_Survey_Involved_Families + Teacher_Retention_Rate + \n",
       "    Avg_Class_Size_All_Grades + School_Survey_Safety + Chronic_Absenteeism, \n",
       "    data = df.chi.full.es)\n",
       "\n",
       "Residuals:\n",
       "     Min       1Q   Median       3Q      Max \n",
       "-1.54557 -0.25183 -0.00404  0.30831  1.09150 \n",
       "\n",
       "Coefficients:\n",
       "                                 Estimate Std. Error t value Pr(>|t|)    \n",
       "(Intercept)                      2.449447   0.308822   7.932 2.64e-14 ***\n",
       "IS_CHARTER                      -0.313467   0.238927  -1.312   0.1903    \n",
       "PC_of_Free_Eligibility          -1.497197   0.139074 -10.765  < 2e-16 ***\n",
       "School_Survey_Involved_Families  0.047195   0.031947   1.477   0.1405    \n",
       "Teacher_Retention_Rate           0.012961   0.002823   4.592 6.04e-06 ***\n",
       "Avg_Class_Size_All_Grades        0.007795   0.002635   2.958   0.0033 ** \n",
       "School_Survey_Safety             0.039831   0.023092   1.725   0.0854 .  \n",
       "Chronic_Absenteeism             -0.032738   0.003515  -9.314  < 2e-16 ***\n",
       "---\n",
       "Signif. codes:  0 '***' 0.001 '**' 0.01 '*' 0.05 '.' 0.1 ' ' 1\n",
       "\n",
       "Residual standard error: 0.4138 on 367 degrees of freedom\n",
       "  (38 observations deleted due to missingness)\n",
       "Multiple R-squared:  0.6585,\tAdjusted R-squared:  0.652 \n",
       "F-statistic: 101.1 on 7 and 367 DF,  p-value: < 2.2e-16\n"
      ]
     },
     "metadata": {},
     "output_type": "display_data"
    }
   ],
   "source": [
    "transfromed_scores<- (df.chi.full.es$Math_Proficiency_Total_PC)^.33\n",
    "#transfromed_scores\n",
    "tranfromed.lm3 <- lm(transfromed_scores ~ IS_CHARTER+PC_of_Free_Eligibility + School_Survey_Involved_Families + Teacher_Retention_Rate + Avg_Class_Size_All_Grades + School_Survey_Safety + Chronic_Absenteeism,\n",
    "            data = df.chi.full.es)\n",
    "summary(tranfromed.lm3)\n"
   ]
  },
  {
   "cell_type": "markdown",
   "metadata": {},
   "source": [
    "### Contancy of error variance"
   ]
  },
  {
   "cell_type": "code",
   "execution_count": 292,
   "metadata": {},
   "outputs": [
    {
     "data": {
      "image/png": "[encoded data removed]",
      "text/plain": [
       "plot without title"
      ]
     },
     "metadata": {},
     "output_type": "display_data"
    }
   ],
   "source": [
    "par(mfrow = c(2, 2))\n",
    "#plot(tranfromed.lm3$resid, lm1$fitted,  xlab = \"Residuals\", ylab = \"Predicted Scores\")\n",
    "plot(tranfromed.lm3$resid, lm1$IS_CHARTER,  xlab = \"Residuals\", ylab = \"IS_CHARTER\")\n",
    "plot(tranfromed.lm3$resid, lm1$PC_of_Free_Eligibility,  xlab = \"Residuals\", ylab = \"PC_of_Free_Eligibility\")\n",
    "plot(tranfromed.lm3$resid, lm1$School_Survey_Involved_Families,  xlab = \"Residuals\", ylab = \"School_Survey_Involved_Families\")\n",
    "plot(tranfromed.lm3$resid, lm1$Teacher_Retention_Rate,  xlab = \"Residuals\", ylab = \"Teacher_Retention_Rate\")\n",
    "#plot(tranfromed.lm3$resid, lm1$Avg_Class_Size_All_Grades,  xlab = \"Residuals\", ylab = \"Avg_Class_Size_All_Grades\")\n",
    "#plot(tranfromed.lm3$resid, lm1$School_Survey_Safety,  xlab = \"Residuals\", ylab = \"School_Survey_Safety\")\n",
    "#plot(tranfromed.lm3$resid, lm1$Chronic_Absenteeism,  xlab = \"Residuals\", ylab = \"Chronic_Absenteeism\")"
   ]
  },
  {
   "cell_type": "markdown",
   "metadata": {},
   "source": [
    "## F test for constancy of error variance"
   ]
  },
  {
   "cell_type": "code",
   "execution_count": 293,
   "metadata": {},
   "outputs": [],
   "source": [
    "#order(tranfromed.lm3$resid)\n",
    "\n",
    "v <- sort(tranfromed.lm3$resid)\n",
    "lower <- v[1:round(length(v)/2)] \n",
    "upper <- v[round((length(v)/2)+1):length(v)] \n",
    "write.csv(upper, file = \"./data/upper.csv\",row.names=FALSE)\n",
    "write.csv(lower, file = \"./data/lower.csv\",row.names=FALSE)"
   ]
  },
  {
   "cell_type": "code",
   "execution_count": 294,
   "metadata": {},
   "outputs": [
    {
     "data": {
      "text/html": [
       "0.999866579050728"
      ],
      "text/latex": [
       "0.999866579050728"
      ],
      "text/markdown": [
       "0.999866579050728"
      ],
      "text/plain": [
       "[1] 0.9998666"
      ]
     },
     "metadata": {},
     "output_type": "display_data"
    }
   ],
   "source": [
    "((sum(upper))^2)/((sum(lower))^2)"
   ]
  },
  {
   "cell_type": "code",
   "execution_count": 267,
   "metadata": {},
   "outputs": [
    {
     "name": "stderr",
     "output_type": "stream",
     "text": [
      "Warning message in qf(188, 188, 0.95):\n",
      "\"NaNs produced\""
     ]
    },
    {
     "data": {
      "text/html": [
       "NaN"
      ],
      "text/latex": [
       "NaN"
      ],
      "text/markdown": [
       "NaN"
      ],
      "text/plain": [
       "[1] NaN"
      ]
     },
     "metadata": {},
     "output_type": "display_data"
    }
   ],
   "source": []
  },
  {
   "cell_type": "code",
   "execution_count": 271,
   "metadata": {},
   "outputs": [
    {
     "data": {
      "text/html": [
       "2.05991392208881"
      ],
      "text/latex": [
       "2.05991392208881"
      ],
      "text/markdown": [
       "2.05991392208881"
      ],
      "text/plain": [
       "[1] 2.059914"
      ]
     },
     "metadata": {},
     "output_type": "display_data"
    }
   ],
   "source": [
    "qf(0.95,7,360)"
   ]
  },
  {
   "cell_type": "markdown",
   "metadata": {},
   "source": [
    "## BP test"
   ]
  },
  {
   "cell_type": "code",
   "execution_count": 265,
   "metadata": {},
   "outputs": [
    {
     "data": {
      "text/plain": [
       "\n",
       "\tstudentized Breusch-Pagan test\n",
       "\n",
       "data:  tranfromed.lm3\n",
       "BP = 12.386, df = 7, p-value = 0.08857\n"
      ]
     },
     "metadata": {},
     "output_type": "display_data"
    }
   ],
   "source": [
    "bptest(tranfromed.lm3, ~ IS_CHARTER+PC_of_Free_Eligibility + School_Survey_Involved_Families + Teacher_Retention_Rate + Avg_Class_Size_All_Grades + School_Survey_Safety + Chronic_Absenteeism, data = df.chi.full.es, studentize = TRUE)\n"
   ]
  },
  {
   "cell_type": "code",
   "execution_count": 237,
   "metadata": {},
   "outputs": [
    {
     "data": {
      "image/png": "[encoded data removed]",
      "text/plain": [
       "plot without title"
      ]
     },
     "metadata": {},
     "output_type": "display_data"
    }
   ],
   "source": [
    "boxplot(tranfromed.lm3$resid)"
   ]
  },
  {
   "cell_type": "code",
   "execution_count": 240,
   "metadata": {},
   "outputs": [
    {
     "data": {
      "image/png": "[encoded data removed]",
      "text/plain": [
       "Plot with title \"Normal Q-Q Plot\""
      ]
     },
     "metadata": {},
     "output_type": "display_data"
    }
   ],
   "source": [
    "qqnorm(tranfromed.lm3$resid)\n",
    "qqline(tranfromed.lm3$resid)"
   ]
  },
  {
   "cell_type": "code",
   "execution_count": 272,
   "metadata": {},
   "outputs": [
    {
     "ename": "ERROR",
     "evalue": "Error in goodfit(cc, method = \"MinChisq\"): could not find function \"goodfit\"\n",
     "output_type": "error",
     "traceback": [
      "Error in goodfit(cc, method = \"MinChisq\"): could not find function \"goodfit\"\nTraceback:\n"
     ]
    }
   ],
   "source": [
    "g <- goodfit(cc, method=\"MinChisq\")\n",
    "summary(g)"
   ]
  },
  {
   "cell_type": "code",
   "execution_count": 241,
   "metadata": {},
   "outputs": [
    {
     "data": {
      "image/png": "[encoded data removed]",
      "text/plain": [
       "plot without title"
      ]
     },
     "metadata": {},
     "output_type": "display_data"
    }
   ],
   "source": [
    "boxplot($resid)"
   ]
  },
  {
   "cell_type": "markdown",
   "metadata": {},
   "source": [
    "## Outliers of Xi - Cook Distance"
   ]
  },
  {
   "cell_type": "code",
   "execution_count": 284,
   "metadata": {},
   "outputs": [
    {
     "data": {
      "image/png": "[encoded data removed]",
      "text/plain": [
       "Plot with title \"Influential Observation by Cooks distance\""
      ]
     },
     "metadata": {},
     "output_type": "display_data"
    }
   ],
   "source": [
    "cooksd <- cooks.distance(tranfromed.lm3)\n",
    "plot(cooksd, pch=\"*\", cex=1, main=\"Influential Observation by Cooks distance\")  # plot cook's distance\n",
    "abline(h = 4*mean(cooksd, na.rm=T), col=\"red\")  # add cutoff line\n",
    "text(x=1:length(cooksd)+1, y=cooksd, labels=ifelse(cooksd>4*mean(cooksd, na.rm=T),names(cooksd),\"\"), col=\"red\")  # add labels"
   ]
  },
  {
   "cell_type": "code",
   "execution_count": 285,
   "metadata": {},
   "outputs": [
    {
     "data": {
      "text/html": [
       "0.908241019650054"
      ],
      "text/latex": [
       "0.908241019650054"
      ],
      "text/markdown": [
       "0.908241019650054"
      ],
      "text/plain": [
       "[1] 0.908241"
      ]
     },
     "metadata": {},
     "output_type": "display_data"
    }
   ],
   "source": [
    "qf(.50,7,360)"
   ]
  },
  {
   "cell_type": "code",
   "execution_count": 296,
   "metadata": {},
   "outputs": [
    {
     "data": {
      "text/plain": [
       "\n",
       "Call:\n",
       "lm(formula = transfromed_scores ~ IS_CHARTER + PC_of_Free_Eligibility + \n",
       "    School_Survey_Involved_Families + Teacher_Retention_Rate + \n",
       "    Avg_Class_Size_All_Grades + School_Survey_Safety + Chronic_Absenteeism, \n",
       "    data = df.chi.full.es)\n",
       "\n",
       "Residuals:\n",
       "     Min       1Q   Median       3Q      Max \n",
       "-1.54557 -0.25183 -0.00404  0.30831  1.09150 \n",
       "\n",
       "Coefficients:\n",
       "                                 Estimate Std. Error t value Pr(>|t|)    \n",
       "(Intercept)                      2.449447   0.308822   7.932 2.64e-14 ***\n",
       "IS_CHARTER                      -0.313467   0.238927  -1.312   0.1903    \n",
       "PC_of_Free_Eligibility          -1.497197   0.139074 -10.765  < 2e-16 ***\n",
       "School_Survey_Involved_Families  0.047195   0.031947   1.477   0.1405    \n",
       "Teacher_Retention_Rate           0.012961   0.002823   4.592 6.04e-06 ***\n",
       "Avg_Class_Size_All_Grades        0.007795   0.002635   2.958   0.0033 ** \n",
       "School_Survey_Safety             0.039831   0.023092   1.725   0.0854 .  \n",
       "Chronic_Absenteeism             -0.032738   0.003515  -9.314  < 2e-16 ***\n",
       "---\n",
       "Signif. codes:  0 '***' 0.001 '**' 0.01 '*' 0.05 '.' 0.1 ' ' 1\n",
       "\n",
       "Residual standard error: 0.4138 on 367 degrees of freedom\n",
       "  (38 observations deleted due to missingness)\n",
       "Multiple R-squared:  0.6585,\tAdjusted R-squared:  0.652 \n",
       "F-statistic: 101.1 on 7 and 367 DF,  p-value: < 2.2e-16\n"
      ]
     },
     "metadata": {},
     "output_type": "display_data"
    }
   ],
   "source": [
    "summary(tranfromed.lm3)"
   ]
  },
  {
   "cell_type": "markdown",
   "metadata": {},
   "source": [
    "## Variance Inflation Factor "
   ]
  },
  {
   "cell_type": "code",
   "execution_count": 295,
   "metadata": {},
   "outputs": [
    {
     "data": {
      "text/html": [
       "<dl class=dl-horizontal>\n",
       "\t<dt>IS_CHARTER</dt>\n",
       "\t\t<dd>1.31959942529922</dd>\n",
       "\t<dt>PC_of_Free_Eligibility</dt>\n",
       "\t\t<dd>1.57278315088311</dd>\n",
       "\t<dt>School_Survey_Involved_Families</dt>\n",
       "\t\t<dd>1.58241773411063</dd>\n",
       "\t<dt>Teacher_Retention_Rate</dt>\n",
       "\t\t<dd>1.40276867587917</dd>\n",
       "\t<dt>Avg_Class_Size_All_Grades</dt>\n",
       "\t\t<dd>1.10848939210736</dd>\n",
       "\t<dt>School_Survey_Safety</dt>\n",
       "\t\t<dd>1.41058920436685</dd>\n",
       "\t<dt>Chronic_Absenteeism</dt>\n",
       "\t\t<dd>1.52284600315344</dd>\n",
       "</dl>\n"
      ],
      "text/latex": [
       "\\begin{description*}\n",
       "\\item[IS\\textbackslash{}\\_CHARTER] 1.31959942529922\n",
       "\\item[PC\\textbackslash{}\\_of\\textbackslash{}\\_Free\\textbackslash{}\\_Eligibility] 1.57278315088311\n",
       "\\item[School\\textbackslash{}\\_Survey\\textbackslash{}\\_Involved\\textbackslash{}\\_Families] 1.58241773411063\n",
       "\\item[Teacher\\textbackslash{}\\_Retention\\textbackslash{}\\_Rate] 1.40276867587917\n",
       "\\item[Avg\\textbackslash{}\\_Class\\textbackslash{}\\_Size\\textbackslash{}\\_All\\textbackslash{}\\_Grades] 1.10848939210736\n",
       "\\item[School\\textbackslash{}\\_Survey\\textbackslash{}\\_Safety] 1.41058920436685\n",
       "\\item[Chronic\\textbackslash{}\\_Absenteeism] 1.52284600315344\n",
       "\\end{description*}\n"
      ],
      "text/markdown": [
       "IS_CHARTER\n",
       ":   1.31959942529922PC_of_Free_Eligibility\n",
       ":   1.57278315088311School_Survey_Involved_Families\n",
       ":   1.58241773411063Teacher_Retention_Rate\n",
       ":   1.40276867587917Avg_Class_Size_All_Grades\n",
       ":   1.10848939210736School_Survey_Safety\n",
       ":   1.41058920436685Chronic_Absenteeism\n",
       ":   1.52284600315344\n",
       "\n"
      ],
      "text/plain": [
       "                     IS_CHARTER          PC_of_Free_Eligibility \n",
       "                       1.319599                        1.572783 \n",
       "School_Survey_Involved_Families          Teacher_Retention_Rate \n",
       "                       1.582418                        1.402769 \n",
       "      Avg_Class_Size_All_Grades            School_Survey_Safety \n",
       "                       1.108489                        1.410589 \n",
       "            Chronic_Absenteeism \n",
       "                       1.522846 "
      ]
     },
     "metadata": {},
     "output_type": "display_data"
    }
   ],
   "source": [
    "#install.packages(\"car\")\n",
    "library(\"car\")\n",
    "vif(tranfromed.lm3)"
   ]
  }
 ],
 "metadata": {
  "kernelspec": {
   "display_name": "R",
   "language": "R",
   "name": "ir"
  },
  "language_info": {
   "codemirror_mode": "r",
   "file_extension": ".r",
   "mimetype": "text/x-r-source",
   "name": "R",
   "pygments_lexer": "r",
   "version": "3.5.1"
  }
 },
 "nbformat": 4,
 "nbformat_minor": 2
}
