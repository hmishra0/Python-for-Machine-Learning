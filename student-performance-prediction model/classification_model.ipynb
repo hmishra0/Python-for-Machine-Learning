{
 "cells": [
  {
   "cell_type": "code",
   "execution_count": 1,
   "metadata": {},
   "outputs": [],
   "source": [
    "import numpy as np\n",
    "import pandas as pd\n",
    "\"\"\" Import ML helpers \"\"\"\n",
    "from sklearn.preprocessing import LabelEncoder\n",
    "from sklearn.model_selection import train_test_split\n",
    "from sklearn.metrics import confusion_matrix\n",
    "from sklearn.model_selection import GridSearchCV, cross_val_score\n",
    "\n",
    "from sklearn.pipeline import Pipeline\n",
    "from sklearn.feature_selection import SelectKBest, chi2\n",
    "from sklearn.svm import LinearSVC # Support Vector Machine Classifier model\n",
    "pd.options.mode.chained_assignment = None  # default='warn'"
   ]
  },
  {
   "cell_type": "code",
   "execution_count": 2,
   "metadata": {},
   "outputs": [],
   "source": [
    "df = pd.read_csv(\"./data/student-mat.csv\", sep=\";\")"
   ]
  },
  {
   "cell_type": "code",
   "execution_count": 3,
   "metadata": {},
   "outputs": [],
   "source": [
    "\"\"\" Confusion Matrix \"\"\"\n",
    "def confuse(y_true, y_pred):\n",
    "    cm = confusion_matrix(y_true=y_true, y_pred=y_pred)\n",
    "    # print(\"\\nConfusion Matrix: \\n\", cm)\n",
    "    fpr(cm)\n",
    "    ffr(cm)\n",
    "\n",
    "\"\"\" False Pass Rate \"\"\"\n",
    "def fpr(confusion_matrix):\n",
    "    fp = confusion_matrix[0][1]\n",
    "    tf = confusion_matrix[0][0]\n",
    "    rate = float(fp) / (fp + tf)\n",
    "    print(\"False Pass Rate: \", rate)\n",
    "\n",
    "\"\"\" False Fail Rate \"\"\"\n",
    "def ffr(confusion_matrix):\n",
    "    ff = confusion_matrix[1][0]\n",
    "    tp = confusion_matrix[1][1]\n",
    "    rate = float(ff) / (ff + tp)\n",
    "    print(\"False Fail Rate: \", rate)\n",
    "\n",
    "    return rate\n",
    "\n",
    "\"\"\" Train Model and Print Score \"\"\"\n",
    "def train_and_score(X, y):\n",
    "    X_train, X_test, y_train, y_test = train_test_split(X, y,test_size=0.15, random_state=1)\n",
    "\n",
    "    clf = Pipeline([\n",
    "        ('reduce_dim', SelectKBest(chi2, k=2)),\n",
    "        ('train', LinearSVC(C=100))\n",
    "    ])\n",
    "\n",
    "    scores = cross_val_score(clf, X_train, y_train, cv=5, n_jobs=2)\n",
    "    print(\"Mean Model Accuracy:\", np.array(scores).mean())\n",
    "\n",
    "    clf.fit(X_train, y_train)\n",
    "\n",
    "    confuse(y_test, clf.predict(X_test))\n",
    "    print()"
   ]
  },
  {
   "cell_type": "code",
   "execution_count": 4,
   "metadata": {
    "collapsed": true
   },
   "outputs": [],
   "source": [
    "def main():\n",
    "    print(\"\\nStudent Performance Prediction\")\n",
    "\n",
    "    # For each feature, encode to categorical values\n",
    "    class_le = LabelEncoder()\n",
    "    for column in df[[\"school\", \"sex\", \"address\", \"famsize\", \"Pstatus\", \"Mjob\", \"Fjob\", \"reason\", \"guardian\", \"schoolsup\", \"famsup\", \"paid\", \"activities\", \"nursery\", \"higher\", \"internet\", \"romantic\"]].columns:\n",
    "        df[column] = class_le.fit_transform(df[column].values)\n",
    "\n",
    "    # Encode G1, G2, G3 as pass or fail binary values\n",
    "    for i, row in df.iterrows():\n",
    "        if row[\"G1\"] >= 10:\n",
    "            df[\"G1\"][i] = 1\n",
    "        else:\n",
    "            df[\"G1\"][i] = 0\n",
    "\n",
    "        if row[\"G2\"] >= 10:\n",
    "            df[\"G2\"][i] = 1\n",
    "        else:\n",
    "            df[\"G2\"][i] = 0\n",
    "\n",
    "        if row[\"G3\"] >= 10:\n",
    "            df[\"G3\"][i] = 1\n",
    "        else:\n",
    "            df[\"G3\"][i] = 0\n",
    "\n",
    "    # Target values are G3\n",
    "    y = df.pop(\"G3\")\n",
    "\n",
    "    # Feature set is remaining features\n",
    "    X = df\n",
    "\n",
    "    print(\"\\n\\nModel Accuracy Knowing G1 & G2 Scores\")\n",
    "    print(\"=====================================\")\n",
    "    train_and_score(X, y)\n",
    "\n",
    "    # Remove grade report 2\n",
    "    X.drop([\"G2\"], axis = 1, inplace=True)\n",
    "    print(\"\\n\\nModel Accuracy Knowing Only G1 Score\")\n",
    "    print(\"=====================================\")\n",
    "    train_and_score(X, y)\n",
    "\n",
    "    # Remove grade report 1\n",
    "    X.drop([\"G1\"], axis=1, inplace=True)\n",
    "    print(\"\\n\\nModel Accuracy Without Knowing Scores\")\n",
    "    print(\"=====================================\")\n",
    "    train_and_score(X, y)\n"
   ]
  },
  {
   "cell_type": "code",
   "execution_count": 5,
   "metadata": {},
   "outputs": [
    {
     "name": "stdout",
     "output_type": "stream",
     "text": [
      "\n",
      "Student Performance Prediction\n",
      "\n",
      "\n",
      "Model Accuracy Knowing G1 & G2 Scores\n",
      "=====================================\n",
      "Mean Model Accuracy: 0.925373134328\n",
      "False Pass Rate:  0.15\n",
      "False Fail Rate:  0.1\n",
      "\n",
      "\n",
      "\n",
      "Model Accuracy Knowing Only G1 Score\n",
      "=====================================\n",
      "Mean Model Accuracy: 0.805970149254\n",
      "False Pass Rate:  0.15\n",
      "False Fail Rate:  0.2\n",
      "\n",
      "\n",
      "\n",
      "Model Accuracy Without Knowing Scores\n",
      "=====================================\n",
      "Mean Model Accuracy: 0.635820895522\n",
      "False Pass Rate:  0.15\n",
      "False Fail Rate:  0.675\n",
      "\n"
     ]
    }
   ],
   "source": [
    "main()"
   ]
  },
  {
   "cell_type": "code",
   "execution_count": null,
   "metadata": {
    "collapsed": true
   },
   "outputs": [],
   "source": []
  }
 ],
 "metadata": {
  "kernelspec": {
   "display_name": "Python 3",
   "language": "python",
   "name": "python3"
  },
  "language_info": {
   "codemirror_mode": {
    "name": "ipython",
    "version": 3
   },
   "file_extension": ".py",
   "mimetype": "text/x-python",
   "name": "python",
   "nbconvert_exporter": "python",
   "pygments_lexer": "ipython3",
   "version": "3.7.1"
  }
 },
 "nbformat": 4,
 "nbformat_minor": 2
}
